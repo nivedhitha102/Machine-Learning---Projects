{
 "cells": [
  {
   "cell_type": "code",
   "execution_count": 441,
   "id": "da6e514c",
   "metadata": {},
   "outputs": [],
   "source": [
    "import pandas as pd \n",
    "import numpy as np \n",
    "import matplotlib.pyplot as plt \n",
    "import seaborn as sns\n",
    "from warnings import filterwarnings\n",
    "filterwarnings ('ignore')\n",
    "from sklearn.model_selection import train_test_split,GridSearchCV\n",
    "from sklearn.metrics import r2_score\n",
    "from sklearn.preprocessing import StandardScaler\n",
    "from sklearn.ensemble import AdaBoostRegressor,GradientBoostingRegressor\n",
    "from sklearn.neighbors import KNeighborsRegressor\n",
    "from sklearn.linear_model import LinearRegression\n",
    "from sklearn.ensemble import RandomForestRegressor\n",
    "from sklearn.tree import DecisionTreeRegressor\n",
    "from sklearn.feature_selection import RFE\n",
    "import statsmodels.api as sm\n",
    "from statsmodels.api import OLS\n",
    "from statsmodels.formula.api import ols\n",
    "from statsmodels.stats.anova import anova_lm\n",
    "from sklearn.metrics import mean_squared_error"
   ]
  },
  {
   "cell_type": "code",
   "execution_count": 442,
   "id": "3ad34169",
   "metadata": {},
   "outputs": [],
   "source": [
    "zomato=pd.read_csv(r\"E:\\GREAT LEARNING\\mini project - ML\\Project 3\\zomato.csv\")"
   ]
  },
  {
   "cell_type": "code",
   "execution_count": 443,
   "id": "0ba38972",
   "metadata": {},
   "outputs": [
    {
     "data": {
      "text/html": [
       "<div>\n",
       "<style scoped>\n",
       "    .dataframe tbody tr th:only-of-type {\n",
       "        vertical-align: middle;\n",
       "    }\n",
       "\n",
       "    .dataframe tbody tr th {\n",
       "        vertical-align: top;\n",
       "    }\n",
       "\n",
       "    .dataframe thead th {\n",
       "        text-align: right;\n",
       "    }\n",
       "</style>\n",
       "<table border=\"1\" class=\"dataframe\">\n",
       "  <thead>\n",
       "    <tr style=\"text-align: right;\">\n",
       "      <th></th>\n",
       "      <th>url</th>\n",
       "      <th>address</th>\n",
       "      <th>name</th>\n",
       "      <th>online_order</th>\n",
       "      <th>book_table</th>\n",
       "      <th>rate</th>\n",
       "      <th>votes</th>\n",
       "      <th>phone</th>\n",
       "      <th>location</th>\n",
       "      <th>rest_type</th>\n",
       "      <th>dish_liked</th>\n",
       "      <th>cuisines</th>\n",
       "      <th>approx_cost(for two people)</th>\n",
       "      <th>reviews_list</th>\n",
       "      <th>menu_item</th>\n",
       "      <th>listed_in(type)</th>\n",
       "      <th>listed_in(city)</th>\n",
       "    </tr>\n",
       "  </thead>\n",
       "  <tbody>\n",
       "    <tr>\n",
       "      <th>0</th>\n",
       "      <td>https://www.zomato.com/bangalore/jalsa-banasha...</td>\n",
       "      <td>942, 21st Main Road, 2nd Stage, Banashankari, ...</td>\n",
       "      <td>Jalsa</td>\n",
       "      <td>Yes</td>\n",
       "      <td>Yes</td>\n",
       "      <td>4.1/5</td>\n",
       "      <td>775</td>\n",
       "      <td>080 42297555\\r\\n+91 9743772233</td>\n",
       "      <td>Banashankari</td>\n",
       "      <td>Casual Dining</td>\n",
       "      <td>Pasta, Lunch Buffet, Masala Papad, Paneer Laja...</td>\n",
       "      <td>North Indian, Mughlai, Chinese</td>\n",
       "      <td>800</td>\n",
       "      <td>[('Rated 4.0', 'RATED\\n  A beautiful place to ...</td>\n",
       "      <td>[]</td>\n",
       "      <td>Buffet</td>\n",
       "      <td>Banashankari</td>\n",
       "    </tr>\n",
       "    <tr>\n",
       "      <th>1</th>\n",
       "      <td>https://www.zomato.com/bangalore/spice-elephan...</td>\n",
       "      <td>2nd Floor, 80 Feet Road, Near Big Bazaar, 6th ...</td>\n",
       "      <td>Spice Elephant</td>\n",
       "      <td>Yes</td>\n",
       "      <td>No</td>\n",
       "      <td>4.1/5</td>\n",
       "      <td>787</td>\n",
       "      <td>080 41714161</td>\n",
       "      <td>Banashankari</td>\n",
       "      <td>Casual Dining</td>\n",
       "      <td>Momos, Lunch Buffet, Chocolate Nirvana, Thai G...</td>\n",
       "      <td>Chinese, North Indian, Thai</td>\n",
       "      <td>800</td>\n",
       "      <td>[('Rated 4.0', 'RATED\\n  Had been here for din...</td>\n",
       "      <td>[]</td>\n",
       "      <td>Buffet</td>\n",
       "      <td>Banashankari</td>\n",
       "    </tr>\n",
       "    <tr>\n",
       "      <th>2</th>\n",
       "      <td>https://www.zomato.com/SanchurroBangalore?cont...</td>\n",
       "      <td>1112, Next to KIMS Medical College, 17th Cross...</td>\n",
       "      <td>San Churro Cafe</td>\n",
       "      <td>Yes</td>\n",
       "      <td>No</td>\n",
       "      <td>3.8/5</td>\n",
       "      <td>918</td>\n",
       "      <td>+91 9663487993</td>\n",
       "      <td>Banashankari</td>\n",
       "      <td>Cafe, Casual Dining</td>\n",
       "      <td>Churros, Cannelloni, Minestrone Soup, Hot Choc...</td>\n",
       "      <td>Cafe, Mexican, Italian</td>\n",
       "      <td>800</td>\n",
       "      <td>[('Rated 3.0', \"RATED\\n  Ambience is not that ...</td>\n",
       "      <td>[]</td>\n",
       "      <td>Buffet</td>\n",
       "      <td>Banashankari</td>\n",
       "    </tr>\n",
       "    <tr>\n",
       "      <th>3</th>\n",
       "      <td>https://www.zomato.com/bangalore/addhuri-udupi...</td>\n",
       "      <td>1st Floor, Annakuteera, 3rd Stage, Banashankar...</td>\n",
       "      <td>Addhuri Udupi Bhojana</td>\n",
       "      <td>No</td>\n",
       "      <td>No</td>\n",
       "      <td>3.7/5</td>\n",
       "      <td>88</td>\n",
       "      <td>+91 9620009302</td>\n",
       "      <td>Banashankari</td>\n",
       "      <td>Quick Bites</td>\n",
       "      <td>Masala Dosa</td>\n",
       "      <td>South Indian, North Indian</td>\n",
       "      <td>300</td>\n",
       "      <td>[('Rated 4.0', \"RATED\\n  Great food and proper...</td>\n",
       "      <td>[]</td>\n",
       "      <td>Buffet</td>\n",
       "      <td>Banashankari</td>\n",
       "    </tr>\n",
       "    <tr>\n",
       "      <th>4</th>\n",
       "      <td>https://www.zomato.com/bangalore/grand-village...</td>\n",
       "      <td>10, 3rd Floor, Lakshmi Associates, Gandhi Baza...</td>\n",
       "      <td>Grand Village</td>\n",
       "      <td>No</td>\n",
       "      <td>No</td>\n",
       "      <td>3.8/5</td>\n",
       "      <td>166</td>\n",
       "      <td>+91 8026612447\\r\\n+91 9901210005</td>\n",
       "      <td>Basavanagudi</td>\n",
       "      <td>Casual Dining</td>\n",
       "      <td>Panipuri, Gol Gappe</td>\n",
       "      <td>North Indian, Rajasthani</td>\n",
       "      <td>600</td>\n",
       "      <td>[('Rated 4.0', 'RATED\\n  Very good restaurant ...</td>\n",
       "      <td>[]</td>\n",
       "      <td>Buffet</td>\n",
       "      <td>Banashankari</td>\n",
       "    </tr>\n",
       "  </tbody>\n",
       "</table>\n",
       "</div>"
      ],
      "text/plain": [
       "                                                 url  \\\n",
       "0  https://www.zomato.com/bangalore/jalsa-banasha...   \n",
       "1  https://www.zomato.com/bangalore/spice-elephan...   \n",
       "2  https://www.zomato.com/SanchurroBangalore?cont...   \n",
       "3  https://www.zomato.com/bangalore/addhuri-udupi...   \n",
       "4  https://www.zomato.com/bangalore/grand-village...   \n",
       "\n",
       "                                             address                   name  \\\n",
       "0  942, 21st Main Road, 2nd Stage, Banashankari, ...                  Jalsa   \n",
       "1  2nd Floor, 80 Feet Road, Near Big Bazaar, 6th ...         Spice Elephant   \n",
       "2  1112, Next to KIMS Medical College, 17th Cross...        San Churro Cafe   \n",
       "3  1st Floor, Annakuteera, 3rd Stage, Banashankar...  Addhuri Udupi Bhojana   \n",
       "4  10, 3rd Floor, Lakshmi Associates, Gandhi Baza...          Grand Village   \n",
       "\n",
       "  online_order book_table   rate  votes                             phone  \\\n",
       "0          Yes        Yes  4.1/5    775    080 42297555\\r\\n+91 9743772233   \n",
       "1          Yes         No  4.1/5    787                      080 41714161   \n",
       "2          Yes         No  3.8/5    918                    +91 9663487993   \n",
       "3           No         No  3.7/5     88                    +91 9620009302   \n",
       "4           No         No  3.8/5    166  +91 8026612447\\r\\n+91 9901210005   \n",
       "\n",
       "       location            rest_type  \\\n",
       "0  Banashankari        Casual Dining   \n",
       "1  Banashankari        Casual Dining   \n",
       "2  Banashankari  Cafe, Casual Dining   \n",
       "3  Banashankari          Quick Bites   \n",
       "4  Basavanagudi        Casual Dining   \n",
       "\n",
       "                                          dish_liked  \\\n",
       "0  Pasta, Lunch Buffet, Masala Papad, Paneer Laja...   \n",
       "1  Momos, Lunch Buffet, Chocolate Nirvana, Thai G...   \n",
       "2  Churros, Cannelloni, Minestrone Soup, Hot Choc...   \n",
       "3                                        Masala Dosa   \n",
       "4                                Panipuri, Gol Gappe   \n",
       "\n",
       "                         cuisines approx_cost(for two people)  \\\n",
       "0  North Indian, Mughlai, Chinese                         800   \n",
       "1     Chinese, North Indian, Thai                         800   \n",
       "2          Cafe, Mexican, Italian                         800   \n",
       "3      South Indian, North Indian                         300   \n",
       "4        North Indian, Rajasthani                         600   \n",
       "\n",
       "                                        reviews_list menu_item  \\\n",
       "0  [('Rated 4.0', 'RATED\\n  A beautiful place to ...        []   \n",
       "1  [('Rated 4.0', 'RATED\\n  Had been here for din...        []   \n",
       "2  [('Rated 3.0', \"RATED\\n  Ambience is not that ...        []   \n",
       "3  [('Rated 4.0', \"RATED\\n  Great food and proper...        []   \n",
       "4  [('Rated 4.0', 'RATED\\n  Very good restaurant ...        []   \n",
       "\n",
       "  listed_in(type) listed_in(city)  \n",
       "0          Buffet    Banashankari  \n",
       "1          Buffet    Banashankari  \n",
       "2          Buffet    Banashankari  \n",
       "3          Buffet    Banashankari  \n",
       "4          Buffet    Banashankari  "
      ]
     },
     "execution_count": 443,
     "metadata": {},
     "output_type": "execute_result"
    }
   ],
   "source": [
    "zomato.head()"
   ]
  },
  {
   "cell_type": "code",
   "execution_count": 444,
   "id": "2970152b",
   "metadata": {},
   "outputs": [
    {
     "data": {
      "text/plain": [
       "url                                0\n",
       "address                            0\n",
       "name                               0\n",
       "online_order                       0\n",
       "book_table                         0\n",
       "rate                            7775\n",
       "votes                              0\n",
       "phone                           1208\n",
       "location                          21\n",
       "rest_type                        227\n",
       "dish_liked                     28078\n",
       "cuisines                          45\n",
       "approx_cost(for two people)      346\n",
       "reviews_list                       0\n",
       "menu_item                          0\n",
       "listed_in(type)                    0\n",
       "listed_in(city)                    0\n",
       "dtype: int64"
      ]
     },
     "execution_count": 444,
     "metadata": {},
     "output_type": "execute_result"
    }
   ],
   "source": [
    "zomato.isnull().sum()"
   ]
  },
  {
   "cell_type": "code",
   "execution_count": 445,
   "id": "4f124feb",
   "metadata": {},
   "outputs": [
    {
     "data": {
      "text/plain": [
       "url                            object\n",
       "address                        object\n",
       "name                           object\n",
       "online_order                   object\n",
       "book_table                     object\n",
       "rate                           object\n",
       "votes                           int64\n",
       "phone                          object\n",
       "location                       object\n",
       "rest_type                      object\n",
       "dish_liked                     object\n",
       "cuisines                       object\n",
       "approx_cost(for two people)    object\n",
       "reviews_list                   object\n",
       "menu_item                      object\n",
       "listed_in(type)                object\n",
       "listed_in(city)                object\n",
       "dtype: object"
      ]
     },
     "execution_count": 445,
     "metadata": {},
     "output_type": "execute_result"
    }
   ],
   "source": [
    "zomato.dtypes #(rate,approx_cost(for two people))"
   ]
  },
  {
   "cell_type": "code",
   "execution_count": 446,
   "id": "2522b421",
   "metadata": {},
   "outputs": [
    {
     "data": {
      "text/plain": [
       "<Axes: >"
      ]
     },
     "execution_count": 446,
     "metadata": {},
     "output_type": "execute_result"
    },
    {
     "data": {
      "image/png": "[encoded data removed]",
      "text/plain": [
       "<Figure size 640x480 with 1 Axes>"
      ]
     },
     "metadata": {},
     "output_type": "display_data"
    }
   ],
   "source": [
    "zomato.plot(kind='box')"
   ]
  },
  {
   "cell_type": "code",
   "execution_count": 447,
   "id": "d78fd3ca",
   "metadata": {
    "scrolled": true
   },
   "outputs": [
    {
     "data": {
      "text/plain": [
       "votes    7.547819\n",
       "dtype: float64"
      ]
     },
     "execution_count": 447,
     "metadata": {},
     "output_type": "execute_result"
    }
   ],
   "source": [
    "zomato.skew()"
   ]
  },
  {
   "cell_type": "code",
   "execution_count": 448,
   "id": "6aef7f84",
   "metadata": {},
   "outputs": [
    {
     "data": {
      "text/plain": [
       "votes    88.866738\n",
       "dtype: float64"
      ]
     },
     "execution_count": 448,
     "metadata": {},
     "output_type": "execute_result"
    }
   ],
   "source": [
    "zomato.kurt()"
   ]
  },
  {
   "cell_type": "code",
   "execution_count": 449,
   "id": "104f4fee",
   "metadata": {
    "scrolled": true
   },
   "outputs": [
    {
     "data": {
      "text/plain": [
       "(51717, 17)"
      ]
     },
     "execution_count": 449,
     "metadata": {},
     "output_type": "execute_result"
    }
   ],
   "source": [
    "zomato.shape"
   ]
  },
  {
   "cell_type": "code",
   "execution_count": 450,
   "id": "819252d2",
   "metadata": {},
   "outputs": [
    {
     "data": {
      "text/html": [
       "<div>\n",
       "<style scoped>\n",
       "    .dataframe tbody tr th:only-of-type {\n",
       "        vertical-align: middle;\n",
       "    }\n",
       "\n",
       "    .dataframe tbody tr th {\n",
       "        vertical-align: top;\n",
       "    }\n",
       "\n",
       "    .dataframe thead th {\n",
       "        text-align: right;\n",
       "    }\n",
       "</style>\n",
       "<table border=\"1\" class=\"dataframe\">\n",
       "  <thead>\n",
       "    <tr style=\"text-align: right;\">\n",
       "      <th></th>\n",
       "      <th>votes</th>\n",
       "    </tr>\n",
       "  </thead>\n",
       "  <tbody>\n",
       "    <tr>\n",
       "      <th>count</th>\n",
       "      <td>51717.000000</td>\n",
       "    </tr>\n",
       "    <tr>\n",
       "      <th>mean</th>\n",
       "      <td>283.697527</td>\n",
       "    </tr>\n",
       "    <tr>\n",
       "      <th>std</th>\n",
       "      <td>803.838853</td>\n",
       "    </tr>\n",
       "    <tr>\n",
       "      <th>min</th>\n",
       "      <td>0.000000</td>\n",
       "    </tr>\n",
       "    <tr>\n",
       "      <th>25%</th>\n",
       "      <td>7.000000</td>\n",
       "    </tr>\n",
       "    <tr>\n",
       "      <th>50%</th>\n",
       "      <td>41.000000</td>\n",
       "    </tr>\n",
       "    <tr>\n",
       "      <th>75%</th>\n",
       "      <td>198.000000</td>\n",
       "    </tr>\n",
       "    <tr>\n",
       "      <th>max</th>\n",
       "      <td>16832.000000</td>\n",
       "    </tr>\n",
       "  </tbody>\n",
       "</table>\n",
       "</div>"
      ],
      "text/plain": [
       "              votes\n",
       "count  51717.000000\n",
       "mean     283.697527\n",
       "std      803.838853\n",
       "min        0.000000\n",
       "25%        7.000000\n",
       "50%       41.000000\n",
       "75%      198.000000\n",
       "max    16832.000000"
      ]
     },
     "execution_count": 450,
     "metadata": {},
     "output_type": "execute_result"
    }
   ],
   "source": [
    "zomato.describe()"
   ]
  },
  {
   "cell_type": "code",
   "execution_count": 451,
   "id": "e3e4d15b",
   "metadata": {},
   "outputs": [
    {
     "name": "stdout",
     "output_type": "stream",
     "text": [
      "<class 'pandas.core.frame.DataFrame'>\n",
      "RangeIndex: 51717 entries, 0 to 51716\n",
      "Data columns (total 17 columns):\n",
      " #   Column                       Non-Null Count  Dtype \n",
      "---  ------                       --------------  ----- \n",
      " 0   url                          51717 non-null  object\n",
      " 1   address                      51717 non-null  object\n",
      " 2   name                         51717 non-null  object\n",
      " 3   online_order                 51717 non-null  object\n",
      " 4   book_table                   51717 non-null  object\n",
      " 5   rate                         43942 non-null  object\n",
      " 6   votes                        51717 non-null  int64 \n",
      " 7   phone                        50509 non-null  object\n",
      " 8   location                     51696 non-null  object\n",
      " 9   rest_type                    51490 non-null  object\n",
      " 10  dish_liked                   23639 non-null  object\n",
      " 11  cuisines                     51672 non-null  object\n",
      " 12  approx_cost(for two people)  51371 non-null  object\n",
      " 13  reviews_list                 51717 non-null  object\n",
      " 14  menu_item                    51717 non-null  object\n",
      " 15  listed_in(type)              51717 non-null  object\n",
      " 16  listed_in(city)              51717 non-null  object\n",
      "dtypes: int64(1), object(16)\n",
      "memory usage: 6.7+ MB\n"
     ]
    }
   ],
   "source": [
    "zomato.info()"
   ]
  },
  {
   "cell_type": "code",
   "execution_count": 452,
   "id": "14de6d99",
   "metadata": {
    "scrolled": false
   },
   "outputs": [
    {
     "data": {
      "text/plain": [
       "votes    803.838853\n",
       "dtype: float64"
      ]
     },
     "execution_count": 452,
     "metadata": {},
     "output_type": "execute_result"
    }
   ],
   "source": [
    "zomato.std()"
   ]
  },
  {
   "cell_type": "code",
   "execution_count": 453,
   "id": "2b0b8195",
   "metadata": {},
   "outputs": [
    {
     "data": {
      "text/plain": [
       "url                            object\n",
       "address                        object\n",
       "name                           object\n",
       "online_order                   object\n",
       "book_table                     object\n",
       "rate                           object\n",
       "votes                           int64\n",
       "phone                          object\n",
       "location                       object\n",
       "rest_type                      object\n",
       "dish_liked                     object\n",
       "cuisines                       object\n",
       "approx_cost(for two people)    object\n",
       "reviews_list                   object\n",
       "menu_item                      object\n",
       "listed_in(type)                object\n",
       "listed_in(city)                object\n",
       "dtype: object"
      ]
     },
     "execution_count": 453,
     "metadata": {},
     "output_type": "execute_result"
    }
   ],
   "source": [
    "zomato.dtypes"
   ]
  },
  {
   "cell_type": "code",
   "execution_count": 454,
   "id": "ddfb3e54",
   "metadata": {},
   "outputs": [
    {
     "data": {
      "text/plain": [
       "array(['4.1/5', '3.8/5', '3.7/5', '3.6/5', '4.6/5', '4.0/5', '4.2/5',\n",
       "       '3.9/5', '3.1/5', '3.0/5', '3.2/5', '3.3/5', '2.8/5', '4.4/5',\n",
       "       '4.3/5', 'NEW', '2.9/5', '3.5/5', nan, '2.6/5', '3.8 /5', '3.4/5',\n",
       "       '4.5/5', '2.5/5', '2.7/5', '4.7/5', '2.4/5', '2.2/5', '2.3/5',\n",
       "       '3.4 /5', '-', '3.6 /5', '4.8/5', '3.9 /5', '4.2 /5', '4.0 /5',\n",
       "       '4.1 /5', '3.7 /5', '3.1 /5', '2.9 /5', '3.3 /5', '2.8 /5',\n",
       "       '3.5 /5', '2.7 /5', '2.5 /5', '3.2 /5', '2.6 /5', '4.5 /5',\n",
       "       '4.3 /5', '4.4 /5', '4.9/5', '2.1/5', '2.0/5', '1.8/5', '4.6 /5',\n",
       "       '4.9 /5', '3.0 /5', '4.8 /5', '2.3 /5', '4.7 /5', '2.4 /5',\n",
       "       '2.1 /5', '2.2 /5', '2.0 /5', '1.8 /5'], dtype=object)"
      ]
     },
     "execution_count": 454,
     "metadata": {},
     "output_type": "execute_result"
    }
   ],
   "source": [
    "zomato['rate'].unique()"
   ]
  },
  {
   "cell_type": "code",
   "execution_count": 455,
   "id": "dd79b555",
   "metadata": {},
   "outputs": [],
   "source": [
    "zomato['rate'] = zomato['rate'].apply(lambda x : str(x).split(\"/\")[0])"
   ]
  },
  {
   "cell_type": "code",
   "execution_count": 456,
   "id": "ee67f339",
   "metadata": {},
   "outputs": [
    {
     "data": {
      "text/plain": [
       "array(['4.1', '3.8', '3.7', '3.6', '4.6', '4.0', '4.2', '3.9', '3.1',\n",
       "       '3.0', '3.2', '3.3', '2.8', '4.4', '4.3', 'NEW', '2.9', '3.5',\n",
       "       'nan', '2.6', '3.8 ', '3.4', '4.5', '2.5', '2.7', '4.7', '2.4',\n",
       "       '2.2', '2.3', '3.4 ', '-', '3.6 ', '4.8', '3.9 ', '4.2 ', '4.0 ',\n",
       "       '4.1 ', '3.7 ', '3.1 ', '2.9 ', '3.3 ', '2.8 ', '3.5 ', '2.7 ',\n",
       "       '2.5 ', '3.2 ', '2.6 ', '4.5 ', '4.3 ', '4.4 ', '4.9', '2.1',\n",
       "       '2.0', '1.8', '4.6 ', '4.9 ', '3.0 ', '4.8 ', '2.3 ', '4.7 ',\n",
       "       '2.4 ', '2.1 ', '2.2 ', '2.0 ', '1.8 '], dtype=object)"
      ]
     },
     "execution_count": 456,
     "metadata": {},
     "output_type": "execute_result"
    }
   ],
   "source": [
    "zomato['rate'].unique()"
   ]
  },
  {
   "cell_type": "code",
   "execution_count": 457,
   "id": "d75916d8",
   "metadata": {
    "scrolled": true
   },
   "outputs": [],
   "source": [
    "zomato['rate'] = zomato['rate'].replace('NEW', np.nan)\n",
    "zomato['rate']=zomato['rate'].replace('-',np.nan)"
   ]
  },
  {
   "cell_type": "code",
   "execution_count": 458,
   "id": "b00a49f8",
   "metadata": {
    "scrolled": false
   },
   "outputs": [
    {
     "data": {
      "text/plain": [
       "array(['4.1', '3.8', '3.7', '3.6', '4.6', '4.0', '4.2', '3.9', '3.1',\n",
       "       '3.0', '3.2', '3.3', '2.8', '4.4', '4.3', nan, '2.9', '3.5', 'nan',\n",
       "       '2.6', '3.8 ', '3.4', '4.5', '2.5', '2.7', '4.7', '2.4', '2.2',\n",
       "       '2.3', '3.4 ', '3.6 ', '4.8', '3.9 ', '4.2 ', '4.0 ', '4.1 ',\n",
       "       '3.7 ', '3.1 ', '2.9 ', '3.3 ', '2.8 ', '3.5 ', '2.7 ', '2.5 ',\n",
       "       '3.2 ', '2.6 ', '4.5 ', '4.3 ', '4.4 ', '4.9', '2.1', '2.0', '1.8',\n",
       "       '4.6 ', '4.9 ', '3.0 ', '4.8 ', '2.3 ', '4.7 ', '2.4 ', '2.1 ',\n",
       "       '2.2 ', '2.0 ', '1.8 '], dtype=object)"
      ]
     },
     "execution_count": 458,
     "metadata": {},
     "output_type": "execute_result"
    }
   ],
   "source": [
    "zomato['rate'].unique()"
   ]
  },
  {
   "cell_type": "code",
   "execution_count": 459,
   "id": "d24904ef",
   "metadata": {},
   "outputs": [],
   "source": [
    "zomato['rate'] = zomato['rate'].astype('float64')"
   ]
  },
  {
   "cell_type": "code",
   "execution_count": 460,
   "id": "af6a00a2",
   "metadata": {},
   "outputs": [
    {
     "data": {
      "text/plain": [
       "array([4.1, 3.8, 3.7, 3.6, 4.6, 4. , 4.2, 3.9, 3.1, 3. , 3.2, 3.3, 2.8,\n",
       "       4.4, 4.3, nan, 2.9, 3.5, 2.6, 3.4, 4.5, 2.5, 2.7, 4.7, 2.4, 2.2,\n",
       "       2.3, 4.8, 4.9, 2.1, 2. , 1.8])"
      ]
     },
     "execution_count": 460,
     "metadata": {},
     "output_type": "execute_result"
    }
   ],
   "source": [
    "zomato['rate'].unique()"
   ]
  },
  {
   "cell_type": "code",
   "execution_count": 461,
   "id": "8ca5a84a",
   "metadata": {},
   "outputs": [],
   "source": [
    "zomato['rate'] = zomato['rate'].fillna(0).astype(float)"
   ]
  },
  {
   "cell_type": "code",
   "execution_count": 462,
   "id": "32da44a0",
   "metadata": {},
   "outputs": [
    {
     "data": {
      "text/plain": [
       "array([4.1, 3.8, 3.7, 3.6, 4.6, 4. , 4.2, 3.9, 3.1, 3. , 3.2, 3.3, 2.8,\n",
       "       4.4, 4.3, 0. , 2.9, 3.5, 2.6, 3.4, 4.5, 2.5, 2.7, 4.7, 2.4, 2.2,\n",
       "       2.3, 4.8, 4.9, 2.1, 2. , 1.8])"
      ]
     },
     "execution_count": 462,
     "metadata": {},
     "output_type": "execute_result"
    }
   ],
   "source": [
    "zomato['rate'].unique()"
   ]
  },
  {
   "cell_type": "code",
   "execution_count": 463,
   "id": "a0a0776e",
   "metadata": {},
   "outputs": [
    {
     "data": {
      "text/plain": [
       "array([4.1, 3.8, 3.7, 3.6, 4.6, 4. , 4.2, 3.9, 3.1, 3. , 3.2, 3.3, 2.8,\n",
       "       4.4, 4.3, 0. , 2.9, 3.5, 2.6, 3.4, 4.5, 2.5, 2.7, 4.7, 2.4, 2.2,\n",
       "       2.3, 4.8, 4.9, 2.1, 2. , 1.8])"
      ]
     },
     "execution_count": 463,
     "metadata": {},
     "output_type": "execute_result"
    }
   ],
   "source": [
    "zomato['rate'].unique()"
   ]
  },
  {
   "cell_type": "code",
   "execution_count": 464,
   "id": "17e7c4da",
   "metadata": {
    "scrolled": true
   },
   "outputs": [
    {
     "data": {
      "text/plain": [
       "url                             object\n",
       "address                         object\n",
       "name                            object\n",
       "online_order                    object\n",
       "book_table                      object\n",
       "rate                           float64\n",
       "votes                            int64\n",
       "phone                           object\n",
       "location                        object\n",
       "rest_type                       object\n",
       "dish_liked                      object\n",
       "cuisines                        object\n",
       "approx_cost(for two people)     object\n",
       "reviews_list                    object\n",
       "menu_item                       object\n",
       "listed_in(type)                 object\n",
       "listed_in(city)                 object\n",
       "dtype: object"
      ]
     },
     "execution_count": 464,
     "metadata": {},
     "output_type": "execute_result"
    }
   ],
   "source": [
    "zomato.dtypes"
   ]
  },
  {
   "cell_type": "code",
   "execution_count": 465,
   "id": "8bdc69bd",
   "metadata": {},
   "outputs": [
    {
     "data": {
      "text/plain": [
       "<bound method Series.unique of 0        4.1\n",
       "1        4.1\n",
       "2        3.8\n",
       "3        3.7\n",
       "4        3.8\n",
       "        ... \n",
       "51712    3.6\n",
       "51713    0.0\n",
       "51714    0.0\n",
       "51715    4.3\n",
       "51716    3.4\n",
       "Name: rate, Length: 51717, dtype: float64>"
      ]
     },
     "execution_count": 465,
     "metadata": {},
     "output_type": "execute_result"
    }
   ],
   "source": [
    "zomato['rate'].unique"
   ]
  },
  {
   "cell_type": "code",
   "execution_count": 466,
   "id": "30612c53",
   "metadata": {},
   "outputs": [
    {
     "data": {
      "text/html": [
       "<div>\n",
       "<style scoped>\n",
       "    .dataframe tbody tr th:only-of-type {\n",
       "        vertical-align: middle;\n",
       "    }\n",
       "\n",
       "    .dataframe tbody tr th {\n",
       "        vertical-align: top;\n",
       "    }\n",
       "\n",
       "    .dataframe thead th {\n",
       "        text-align: right;\n",
       "    }\n",
       "</style>\n",
       "<table border=\"1\" class=\"dataframe\">\n",
       "  <thead>\n",
       "    <tr style=\"text-align: right;\">\n",
       "      <th></th>\n",
       "      <th>url</th>\n",
       "      <th>address</th>\n",
       "      <th>name</th>\n",
       "      <th>online_order</th>\n",
       "      <th>book_table</th>\n",
       "      <th>rate</th>\n",
       "      <th>votes</th>\n",
       "      <th>phone</th>\n",
       "      <th>location</th>\n",
       "      <th>rest_type</th>\n",
       "      <th>dish_liked</th>\n",
       "      <th>cuisines</th>\n",
       "      <th>approx_cost(for two people)</th>\n",
       "      <th>reviews_list</th>\n",
       "      <th>menu_item</th>\n",
       "      <th>listed_in(type)</th>\n",
       "      <th>listed_in(city)</th>\n",
       "    </tr>\n",
       "  </thead>\n",
       "  <tbody>\n",
       "    <tr>\n",
       "      <th>0</th>\n",
       "      <td>https://www.zomato.com/bangalore/jalsa-banasha...</td>\n",
       "      <td>942, 21st Main Road, 2nd Stage, Banashankari, ...</td>\n",
       "      <td>Jalsa</td>\n",
       "      <td>Yes</td>\n",
       "      <td>Yes</td>\n",
       "      <td>4.1</td>\n",
       "      <td>775</td>\n",
       "      <td>080 42297555\\r\\n+91 9743772233</td>\n",
       "      <td>Banashankari</td>\n",
       "      <td>Casual Dining</td>\n",
       "      <td>Pasta, Lunch Buffet, Masala Papad, Paneer Laja...</td>\n",
       "      <td>North Indian, Mughlai, Chinese</td>\n",
       "      <td>800</td>\n",
       "      <td>[('Rated 4.0', 'RATED\\n  A beautiful place to ...</td>\n",
       "      <td>[]</td>\n",
       "      <td>Buffet</td>\n",
       "      <td>Banashankari</td>\n",
       "    </tr>\n",
       "    <tr>\n",
       "      <th>1</th>\n",
       "      <td>https://www.zomato.com/bangalore/spice-elephan...</td>\n",
       "      <td>2nd Floor, 80 Feet Road, Near Big Bazaar, 6th ...</td>\n",
       "      <td>Spice Elephant</td>\n",
       "      <td>Yes</td>\n",
       "      <td>No</td>\n",
       "      <td>4.1</td>\n",
       "      <td>787</td>\n",
       "      <td>080 41714161</td>\n",
       "      <td>Banashankari</td>\n",
       "      <td>Casual Dining</td>\n",
       "      <td>Momos, Lunch Buffet, Chocolate Nirvana, Thai G...</td>\n",
       "      <td>Chinese, North Indian, Thai</td>\n",
       "      <td>800</td>\n",
       "      <td>[('Rated 4.0', 'RATED\\n  Had been here for din...</td>\n",
       "      <td>[]</td>\n",
       "      <td>Buffet</td>\n",
       "      <td>Banashankari</td>\n",
       "    </tr>\n",
       "    <tr>\n",
       "      <th>2</th>\n",
       "      <td>https://www.zomato.com/SanchurroBangalore?cont...</td>\n",
       "      <td>1112, Next to KIMS Medical College, 17th Cross...</td>\n",
       "      <td>San Churro Cafe</td>\n",
       "      <td>Yes</td>\n",
       "      <td>No</td>\n",
       "      <td>3.8</td>\n",
       "      <td>918</td>\n",
       "      <td>+91 9663487993</td>\n",
       "      <td>Banashankari</td>\n",
       "      <td>Cafe, Casual Dining</td>\n",
       "      <td>Churros, Cannelloni, Minestrone Soup, Hot Choc...</td>\n",
       "      <td>Cafe, Mexican, Italian</td>\n",
       "      <td>800</td>\n",
       "      <td>[('Rated 3.0', \"RATED\\n  Ambience is not that ...</td>\n",
       "      <td>[]</td>\n",
       "      <td>Buffet</td>\n",
       "      <td>Banashankari</td>\n",
       "    </tr>\n",
       "    <tr>\n",
       "      <th>3</th>\n",
       "      <td>https://www.zomato.com/bangalore/addhuri-udupi...</td>\n",
       "      <td>1st Floor, Annakuteera, 3rd Stage, Banashankar...</td>\n",
       "      <td>Addhuri Udupi Bhojana</td>\n",
       "      <td>No</td>\n",
       "      <td>No</td>\n",
       "      <td>3.7</td>\n",
       "      <td>88</td>\n",
       "      <td>+91 9620009302</td>\n",
       "      <td>Banashankari</td>\n",
       "      <td>Quick Bites</td>\n",
       "      <td>Masala Dosa</td>\n",
       "      <td>South Indian, North Indian</td>\n",
       "      <td>300</td>\n",
       "      <td>[('Rated 4.0', \"RATED\\n  Great food and proper...</td>\n",
       "      <td>[]</td>\n",
       "      <td>Buffet</td>\n",
       "      <td>Banashankari</td>\n",
       "    </tr>\n",
       "    <tr>\n",
       "      <th>4</th>\n",
       "      <td>https://www.zomato.com/bangalore/grand-village...</td>\n",
       "      <td>10, 3rd Floor, Lakshmi Associates, Gandhi Baza...</td>\n",
       "      <td>Grand Village</td>\n",
       "      <td>No</td>\n",
       "      <td>No</td>\n",
       "      <td>3.8</td>\n",
       "      <td>166</td>\n",
       "      <td>+91 8026612447\\r\\n+91 9901210005</td>\n",
       "      <td>Basavanagudi</td>\n",
       "      <td>Casual Dining</td>\n",
       "      <td>Panipuri, Gol Gappe</td>\n",
       "      <td>North Indian, Rajasthani</td>\n",
       "      <td>600</td>\n",
       "      <td>[('Rated 4.0', 'RATED\\n  Very good restaurant ...</td>\n",
       "      <td>[]</td>\n",
       "      <td>Buffet</td>\n",
       "      <td>Banashankari</td>\n",
       "    </tr>\n",
       "  </tbody>\n",
       "</table>\n",
       "</div>"
      ],
      "text/plain": [
       "                                                 url  \\\n",
       "0  https://www.zomato.com/bangalore/jalsa-banasha...   \n",
       "1  https://www.zomato.com/bangalore/spice-elephan...   \n",
       "2  https://www.zomato.com/SanchurroBangalore?cont...   \n",
       "3  https://www.zomato.com/bangalore/addhuri-udupi...   \n",
       "4  https://www.zomato.com/bangalore/grand-village...   \n",
       "\n",
       "                                             address                   name  \\\n",
       "0  942, 21st Main Road, 2nd Stage, Banashankari, ...                  Jalsa   \n",
       "1  2nd Floor, 80 Feet Road, Near Big Bazaar, 6th ...         Spice Elephant   \n",
       "2  1112, Next to KIMS Medical College, 17th Cross...        San Churro Cafe   \n",
       "3  1st Floor, Annakuteera, 3rd Stage, Banashankar...  Addhuri Udupi Bhojana   \n",
       "4  10, 3rd Floor, Lakshmi Associates, Gandhi Baza...          Grand Village   \n",
       "\n",
       "  online_order book_table  rate  votes                             phone  \\\n",
       "0          Yes        Yes   4.1    775    080 42297555\\r\\n+91 9743772233   \n",
       "1          Yes         No   4.1    787                      080 41714161   \n",
       "2          Yes         No   3.8    918                    +91 9663487993   \n",
       "3           No         No   3.7     88                    +91 9620009302   \n",
       "4           No         No   3.8    166  +91 8026612447\\r\\n+91 9901210005   \n",
       "\n",
       "       location            rest_type  \\\n",
       "0  Banashankari        Casual Dining   \n",
       "1  Banashankari        Casual Dining   \n",
       "2  Banashankari  Cafe, Casual Dining   \n",
       "3  Banashankari          Quick Bites   \n",
       "4  Basavanagudi        Casual Dining   \n",
       "\n",
       "                                          dish_liked  \\\n",
       "0  Pasta, Lunch Buffet, Masala Papad, Paneer Laja...   \n",
       "1  Momos, Lunch Buffet, Chocolate Nirvana, Thai G...   \n",
       "2  Churros, Cannelloni, Minestrone Soup, Hot Choc...   \n",
       "3                                        Masala Dosa   \n",
       "4                                Panipuri, Gol Gappe   \n",
       "\n",
       "                         cuisines approx_cost(for two people)  \\\n",
       "0  North Indian, Mughlai, Chinese                         800   \n",
       "1     Chinese, North Indian, Thai                         800   \n",
       "2          Cafe, Mexican, Italian                         800   \n",
       "3      South Indian, North Indian                         300   \n",
       "4        North Indian, Rajasthani                         600   \n",
       "\n",
       "                                        reviews_list menu_item  \\\n",
       "0  [('Rated 4.0', 'RATED\\n  A beautiful place to ...        []   \n",
       "1  [('Rated 4.0', 'RATED\\n  Had been here for din...        []   \n",
       "2  [('Rated 3.0', \"RATED\\n  Ambience is not that ...        []   \n",
       "3  [('Rated 4.0', \"RATED\\n  Great food and proper...        []   \n",
       "4  [('Rated 4.0', 'RATED\\n  Very good restaurant ...        []   \n",
       "\n",
       "  listed_in(type) listed_in(city)  \n",
       "0          Buffet    Banashankari  \n",
       "1          Buffet    Banashankari  \n",
       "2          Buffet    Banashankari  \n",
       "3          Buffet    Banashankari  \n",
       "4          Buffet    Banashankari  "
      ]
     },
     "execution_count": 466,
     "metadata": {},
     "output_type": "execute_result"
    }
   ],
   "source": [
    "zomato.head()"
   ]
  },
  {
   "cell_type": "code",
   "execution_count": 467,
   "id": "118f7681",
   "metadata": {},
   "outputs": [
    {
     "data": {
      "text/plain": [
       "url                             object\n",
       "address                         object\n",
       "name                            object\n",
       "online_order                    object\n",
       "book_table                      object\n",
       "rate                           float64\n",
       "votes                            int64\n",
       "phone                           object\n",
       "location                        object\n",
       "rest_type                       object\n",
       "dish_liked                      object\n",
       "cuisines                        object\n",
       "approx_cost(for two people)     object\n",
       "reviews_list                    object\n",
       "menu_item                       object\n",
       "listed_in(type)                 object\n",
       "listed_in(city)                 object\n",
       "dtype: object"
      ]
     },
     "execution_count": 467,
     "metadata": {},
     "output_type": "execute_result"
    }
   ],
   "source": [
    "zomato.dtypes"
   ]
  },
  {
   "cell_type": "code",
   "execution_count": 468,
   "id": "55f45ec8",
   "metadata": {},
   "outputs": [
    {
     "data": {
      "text/plain": [
       "array(['800', '300', '600', '700', '550', '500', '450', '650', '400',\n",
       "       '900', '200', '750', '150', '850', '100', '1,200', '350', '250',\n",
       "       '950', '1,000', '1,500', '1,300', '199', '80', '1,100', '160',\n",
       "       '1,600', '230', '130', '50', '190', '1,700', nan, '1,400', '180',\n",
       "       '1,350', '2,200', '2,000', '1,800', '1,900', '330', '2,500',\n",
       "       '2,100', '3,000', '2,800', '3,400', '40', '1,250', '3,500',\n",
       "       '4,000', '2,400', '2,600', '120', '1,450', '469', '70', '3,200',\n",
       "       '60', '560', '240', '360', '6,000', '1,050', '2,300', '4,100',\n",
       "       '5,000', '3,700', '1,650', '2,700', '4,500', '140'], dtype=object)"
      ]
     },
     "execution_count": 468,
     "metadata": {},
     "output_type": "execute_result"
    }
   ],
   "source": [
    "zomato[\"approx_cost(for two people)\"].unique()"
   ]
  },
  {
   "cell_type": "code",
   "execution_count": 469,
   "id": "bc261d3e",
   "metadata": {},
   "outputs": [],
   "source": [
    "zomato[\"approx_cost(for two people)\"] = zomato[\"approx_cost(for two people)\"].apply(lambda x : str(x).replace(\",\", \"\"))"
   ]
  },
  {
   "cell_type": "code",
   "execution_count": 470,
   "id": "35805178",
   "metadata": {},
   "outputs": [
    {
     "data": {
      "text/plain": [
       "array(['800', '300', '600', '700', '550', '500', '450', '650', '400',\n",
       "       '900', '200', '750', '150', '850', '100', '1200', '350', '250',\n",
       "       '950', '1000', '1500', '1300', '199', '80', '1100', '160', '1600',\n",
       "       '230', '130', '50', '190', '1700', 'nan', '1400', '180', '1350',\n",
       "       '2200', '2000', '1800', '1900', '330', '2500', '2100', '3000',\n",
       "       '2800', '3400', '40', '1250', '3500', '4000', '2400', '2600',\n",
       "       '120', '1450', '469', '70', '3200', '60', '560', '240', '360',\n",
       "       '6000', '1050', '2300', '4100', '5000', '3700', '1650', '2700',\n",
       "       '4500', '140'], dtype=object)"
      ]
     },
     "execution_count": 470,
     "metadata": {},
     "output_type": "execute_result"
    }
   ],
   "source": [
    "zomato[\"approx_cost(for two people)\"].unique()"
   ]
  },
  {
   "cell_type": "code",
   "execution_count": 471,
   "id": "1881359b",
   "metadata": {},
   "outputs": [],
   "source": [
    "zomato[\"approx_cost(for two people)\"] = zomato['approx_cost(for two people)'].astype('float64')"
   ]
  },
  {
   "cell_type": "code",
   "execution_count": 472,
   "id": "27e7f03e",
   "metadata": {
    "scrolled": false
   },
   "outputs": [
    {
     "data": {
      "text/plain": [
       "url                             object\n",
       "address                         object\n",
       "name                            object\n",
       "online_order                    object\n",
       "book_table                      object\n",
       "rate                           float64\n",
       "votes                            int64\n",
       "phone                           object\n",
       "location                        object\n",
       "rest_type                       object\n",
       "dish_liked                      object\n",
       "cuisines                        object\n",
       "approx_cost(for two people)    float64\n",
       "reviews_list                    object\n",
       "menu_item                       object\n",
       "listed_in(type)                 object\n",
       "listed_in(city)                 object\n",
       "dtype: object"
      ]
     },
     "execution_count": 472,
     "metadata": {},
     "output_type": "execute_result"
    }
   ],
   "source": [
    "zomato.dtypes"
   ]
  },
  {
   "cell_type": "code",
   "execution_count": 473,
   "id": "999072b5",
   "metadata": {},
   "outputs": [
    {
     "data": {
      "text/plain": [
       "url                                0\n",
       "address                            0\n",
       "name                               0\n",
       "online_order                       0\n",
       "book_table                         0\n",
       "rate                               0\n",
       "votes                              0\n",
       "phone                           1208\n",
       "location                          21\n",
       "rest_type                        227\n",
       "dish_liked                     28078\n",
       "cuisines                          45\n",
       "approx_cost(for two people)      346\n",
       "reviews_list                       0\n",
       "menu_item                          0\n",
       "listed_in(type)                    0\n",
       "listed_in(city)                    0\n",
       "dtype: int64"
      ]
     },
     "execution_count": 473,
     "metadata": {},
     "output_type": "execute_result"
    }
   ],
   "source": [
    "zomato.isnull().sum()"
   ]
  },
  {
   "cell_type": "code",
   "execution_count": 474,
   "id": "3fe795c9",
   "metadata": {
    "scrolled": true
   },
   "outputs": [
    {
     "data": {
      "text/plain": [
       "Index(['url', 'address', 'name', 'online_order', 'book_table', 'rate', 'votes',\n",
       "       'phone', 'location', 'rest_type', 'dish_liked', 'cuisines',\n",
       "       'approx_cost(for two people)', 'reviews_list', 'menu_item',\n",
       "       'listed_in(type)', 'listed_in(city)'],\n",
       "      dtype='object')"
      ]
     },
     "execution_count": 474,
     "metadata": {},
     "output_type": "execute_result"
    }
   ],
   "source": [
    "zomato.columns"
   ]
  },
  {
   "cell_type": "code",
   "execution_count": 475,
   "id": "ccbc3252",
   "metadata": {
    "scrolled": true
   },
   "outputs": [
    {
     "data": {
      "text/plain": [
       "url                                0\n",
       "address                            0\n",
       "name                               0\n",
       "online_order                       0\n",
       "book_table                         0\n",
       "rate                               0\n",
       "votes                              0\n",
       "phone                           1208\n",
       "location                          21\n",
       "rest_type                        227\n",
       "dish_liked                     28078\n",
       "cuisines                          45\n",
       "approx_cost(for two people)      346\n",
       "reviews_list                       0\n",
       "menu_item                          0\n",
       "listed_in(type)                    0\n",
       "listed_in(city)                    0\n",
       "dtype: int64"
      ]
     },
     "execution_count": 475,
     "metadata": {},
     "output_type": "execute_result"
    }
   ],
   "source": [
    "zomato.isnull().sum()"
   ]
  },
  {
   "cell_type": "code",
   "execution_count": 476,
   "id": "48a4fa90",
   "metadata": {},
   "outputs": [
    {
     "data": {
      "image/png": "[encoded data removed]",
      "text/plain": [
       "<Figure size 640x480 with 3 Axes>"
      ]
     },
     "metadata": {},
     "output_type": "display_data"
    }
   ],
   "source": [
    "plt.subplot(1,3,1)\n",
    "sns.boxplot(zomato[\"rate\"])\n",
    "plt.xlabel(\"rate\")\n",
    "plt.subplot(1,3,2)\n",
    "sns.boxplot(zomato[\"approx_cost(for two people)\"])\n",
    "plt.xlabel(\"approx_cost(for two people)\")\n",
    "plt.subplot(1,3,3)\n",
    "sns.boxplot(zomato[\"votes\"])\n",
    "plt.xlabel(\"votes\")\n",
    "plt.tight_layout()"
   ]
  },
  {
   "cell_type": "code",
   "execution_count": 477,
   "id": "3ed3723e",
   "metadata": {},
   "outputs": [],
   "source": [
    "#outliers are presnt "
   ]
  },
  {
   "cell_type": "code",
   "execution_count": 480,
   "id": "3f8f9ba7",
   "metadata": {},
   "outputs": [
    {
     "data": {
      "text/html": [
       "<div>\n",
       "<style scoped>\n",
       "    .dataframe tbody tr th:only-of-type {\n",
       "        vertical-align: middle;\n",
       "    }\n",
       "\n",
       "    .dataframe tbody tr th {\n",
       "        vertical-align: top;\n",
       "    }\n",
       "\n",
       "    .dataframe thead th {\n",
       "        text-align: right;\n",
       "    }\n",
       "</style>\n",
       "<table border=\"1\" class=\"dataframe\">\n",
       "  <thead>\n",
       "    <tr style=\"text-align: right;\">\n",
       "      <th></th>\n",
       "      <th>online_order</th>\n",
       "      <th>book_table</th>\n",
       "      <th>rate</th>\n",
       "      <th>votes</th>\n",
       "      <th>rest_type</th>\n",
       "      <th>dish_liked</th>\n",
       "      <th>cuisines</th>\n",
       "      <th>approx_cost(for two people)</th>\n",
       "      <th>menu_item</th>\n",
       "      <th>listed_in(type)</th>\n",
       "      <th>listed_in(city)</th>\n",
       "    </tr>\n",
       "  </thead>\n",
       "  <tbody>\n",
       "    <tr>\n",
       "      <th>0</th>\n",
       "      <td>Yes</td>\n",
       "      <td>Yes</td>\n",
       "      <td>4.1</td>\n",
       "      <td>775</td>\n",
       "      <td>Casual Dining</td>\n",
       "      <td>Pasta, Lunch Buffet, Masala Papad, Paneer Laja...</td>\n",
       "      <td>North Indian, Mughlai, Chinese</td>\n",
       "      <td>800.0</td>\n",
       "      <td>[]</td>\n",
       "      <td>Buffet</td>\n",
       "      <td>Banashankari</td>\n",
       "    </tr>\n",
       "    <tr>\n",
       "      <th>1</th>\n",
       "      <td>Yes</td>\n",
       "      <td>No</td>\n",
       "      <td>4.1</td>\n",
       "      <td>787</td>\n",
       "      <td>Casual Dining</td>\n",
       "      <td>Momos, Lunch Buffet, Chocolate Nirvana, Thai G...</td>\n",
       "      <td>Chinese, North Indian, Thai</td>\n",
       "      <td>800.0</td>\n",
       "      <td>[]</td>\n",
       "      <td>Buffet</td>\n",
       "      <td>Banashankari</td>\n",
       "    </tr>\n",
       "    <tr>\n",
       "      <th>2</th>\n",
       "      <td>Yes</td>\n",
       "      <td>No</td>\n",
       "      <td>3.8</td>\n",
       "      <td>918</td>\n",
       "      <td>Cafe, Casual Dining</td>\n",
       "      <td>Churros, Cannelloni, Minestrone Soup, Hot Choc...</td>\n",
       "      <td>Cafe, Mexican, Italian</td>\n",
       "      <td>800.0</td>\n",
       "      <td>[]</td>\n",
       "      <td>Buffet</td>\n",
       "      <td>Banashankari</td>\n",
       "    </tr>\n",
       "    <tr>\n",
       "      <th>3</th>\n",
       "      <td>No</td>\n",
       "      <td>No</td>\n",
       "      <td>3.7</td>\n",
       "      <td>88</td>\n",
       "      <td>Quick Bites</td>\n",
       "      <td>Masala Dosa</td>\n",
       "      <td>South Indian, North Indian</td>\n",
       "      <td>300.0</td>\n",
       "      <td>[]</td>\n",
       "      <td>Buffet</td>\n",
       "      <td>Banashankari</td>\n",
       "    </tr>\n",
       "    <tr>\n",
       "      <th>4</th>\n",
       "      <td>No</td>\n",
       "      <td>No</td>\n",
       "      <td>3.8</td>\n",
       "      <td>166</td>\n",
       "      <td>Casual Dining</td>\n",
       "      <td>Panipuri, Gol Gappe</td>\n",
       "      <td>North Indian, Rajasthani</td>\n",
       "      <td>600.0</td>\n",
       "      <td>[]</td>\n",
       "      <td>Buffet</td>\n",
       "      <td>Banashankari</td>\n",
       "    </tr>\n",
       "  </tbody>\n",
       "</table>\n",
       "</div>"
      ],
      "text/plain": [
       "  online_order book_table  rate  votes            rest_type  \\\n",
       "0          Yes        Yes   4.1    775        Casual Dining   \n",
       "1          Yes         No   4.1    787        Casual Dining   \n",
       "2          Yes         No   3.8    918  Cafe, Casual Dining   \n",
       "3           No         No   3.7     88          Quick Bites   \n",
       "4           No         No   3.8    166        Casual Dining   \n",
       "\n",
       "                                          dish_liked  \\\n",
       "0  Pasta, Lunch Buffet, Masala Papad, Paneer Laja...   \n",
       "1  Momos, Lunch Buffet, Chocolate Nirvana, Thai G...   \n",
       "2  Churros, Cannelloni, Minestrone Soup, Hot Choc...   \n",
       "3                                        Masala Dosa   \n",
       "4                                Panipuri, Gol Gappe   \n",
       "\n",
       "                         cuisines  approx_cost(for two people) menu_item  \\\n",
       "0  North Indian, Mughlai, Chinese                        800.0        []   \n",
       "1     Chinese, North Indian, Thai                        800.0        []   \n",
       "2          Cafe, Mexican, Italian                        800.0        []   \n",
       "3      South Indian, North Indian                        300.0        []   \n",
       "4        North Indian, Rajasthani                        600.0        []   \n",
       "\n",
       "  listed_in(type) listed_in(city)  \n",
       "0          Buffet    Banashankari  \n",
       "1          Buffet    Banashankari  \n",
       "2          Buffet    Banashankari  \n",
       "3          Buffet    Banashankari  \n",
       "4          Buffet    Banashankari  "
      ]
     },
     "execution_count": 480,
     "metadata": {},
     "output_type": "execute_result"
    }
   ],
   "source": [
    "zomato_slr=zomato.drop(['url', 'address', 'name','phone','reviews_list',\"location\"], axis=1)\n",
    "zomato_slr.head()"
   ]
  },
  {
   "cell_type": "code",
   "execution_count": 487,
   "id": "8623959f",
   "metadata": {},
   "outputs": [
    {
     "name": "stdout",
     "output_type": "stream",
     "text": [
      "(51717, 11)\n"
     ]
    }
   ],
   "source": [
    "\n",
    "print(zomato_slr.shape)"
   ]
  },
  {
   "cell_type": "code",
   "execution_count": 488,
   "id": "98d0299b",
   "metadata": {},
   "outputs": [
    {
     "data": {
      "text/plain": [
       "online_order                       0\n",
       "book_table                         0\n",
       "rate                               0\n",
       "votes                              0\n",
       "rest_type                        227\n",
       "dish_liked                     28078\n",
       "cuisines                          45\n",
       "approx_cost(for two people)      346\n",
       "menu_item                          0\n",
       "listed_in(type)                    0\n",
       "listed_in(city)                    0\n",
       "dtype: int64"
      ]
     },
     "execution_count": 488,
     "metadata": {},
     "output_type": "execute_result"
    }
   ],
   "source": [
    "zomato_slr.isnull().sum()"
   ]
  },
  {
   "cell_type": "code",
   "execution_count": 489,
   "id": "a09fca48",
   "metadata": {},
   "outputs": [],
   "source": [
    "zomato_slr['menu_item'].replace('[]',np.nan,inplace=True)\n"
   ]
  },
  {
   "cell_type": "code",
   "execution_count": 490,
   "id": "ee38acb8",
   "metadata": {},
   "outputs": [
    {
     "data": {
      "text/plain": [
       "39617"
      ]
     },
     "execution_count": 490,
     "metadata": {},
     "output_type": "execute_result"
    }
   ],
   "source": [
    "zomato_slr['menu_item'].isnull().sum()"
   ]
  },
  {
   "cell_type": "code",
   "execution_count": 491,
   "id": "d83257bf",
   "metadata": {},
   "outputs": [
    {
     "data": {
      "text/plain": [
       "76.60343794110254"
      ]
     },
     "execution_count": 491,
     "metadata": {},
     "output_type": "execute_result"
    }
   ],
   "source": [
    "(zomato_slr['menu_item'].isnull().sum()/zomato_slr.shape[0])*100"
   ]
  },
  {
   "cell_type": "code",
   "execution_count": 204,
   "id": "cbe0a593",
   "metadata": {},
   "outputs": [],
   "source": [
    "#hence we shall drop \"menu_item\""
   ]
  },
  {
   "cell_type": "code",
   "execution_count": 492,
   "id": "0ba4c3d4",
   "metadata": {},
   "outputs": [],
   "source": [
    "zomato_slr.drop('menu_item',axis=1,inplace=True)"
   ]
  },
  {
   "cell_type": "code",
   "execution_count": 493,
   "id": "8abe5c8e",
   "metadata": {},
   "outputs": [
    {
     "data": {
      "text/html": [
       "<div>\n",
       "<style scoped>\n",
       "    .dataframe tbody tr th:only-of-type {\n",
       "        vertical-align: middle;\n",
       "    }\n",
       "\n",
       "    .dataframe tbody tr th {\n",
       "        vertical-align: top;\n",
       "    }\n",
       "\n",
       "    .dataframe thead th {\n",
       "        text-align: right;\n",
       "    }\n",
       "</style>\n",
       "<table border=\"1\" class=\"dataframe\">\n",
       "  <thead>\n",
       "    <tr style=\"text-align: right;\">\n",
       "      <th></th>\n",
       "      <th>online_order</th>\n",
       "      <th>book_table</th>\n",
       "      <th>rate</th>\n",
       "      <th>votes</th>\n",
       "      <th>rest_type</th>\n",
       "      <th>dish_liked</th>\n",
       "      <th>cuisines</th>\n",
       "      <th>approx_cost(for two people)</th>\n",
       "      <th>listed_in(type)</th>\n",
       "      <th>listed_in(city)</th>\n",
       "    </tr>\n",
       "  </thead>\n",
       "  <tbody>\n",
       "    <tr>\n",
       "      <th>0</th>\n",
       "      <td>Yes</td>\n",
       "      <td>Yes</td>\n",
       "      <td>4.1</td>\n",
       "      <td>775</td>\n",
       "      <td>Casual Dining</td>\n",
       "      <td>Pasta, Lunch Buffet, Masala Papad, Paneer Laja...</td>\n",
       "      <td>North Indian, Mughlai, Chinese</td>\n",
       "      <td>800.0</td>\n",
       "      <td>Buffet</td>\n",
       "      <td>Banashankari</td>\n",
       "    </tr>\n",
       "    <tr>\n",
       "      <th>1</th>\n",
       "      <td>Yes</td>\n",
       "      <td>No</td>\n",
       "      <td>4.1</td>\n",
       "      <td>787</td>\n",
       "      <td>Casual Dining</td>\n",
       "      <td>Momos, Lunch Buffet, Chocolate Nirvana, Thai G...</td>\n",
       "      <td>Chinese, North Indian, Thai</td>\n",
       "      <td>800.0</td>\n",
       "      <td>Buffet</td>\n",
       "      <td>Banashankari</td>\n",
       "    </tr>\n",
       "    <tr>\n",
       "      <th>2</th>\n",
       "      <td>Yes</td>\n",
       "      <td>No</td>\n",
       "      <td>3.8</td>\n",
       "      <td>918</td>\n",
       "      <td>Cafe, Casual Dining</td>\n",
       "      <td>Churros, Cannelloni, Minestrone Soup, Hot Choc...</td>\n",
       "      <td>Cafe, Mexican, Italian</td>\n",
       "      <td>800.0</td>\n",
       "      <td>Buffet</td>\n",
       "      <td>Banashankari</td>\n",
       "    </tr>\n",
       "    <tr>\n",
       "      <th>3</th>\n",
       "      <td>No</td>\n",
       "      <td>No</td>\n",
       "      <td>3.7</td>\n",
       "      <td>88</td>\n",
       "      <td>Quick Bites</td>\n",
       "      <td>Masala Dosa</td>\n",
       "      <td>South Indian, North Indian</td>\n",
       "      <td>300.0</td>\n",
       "      <td>Buffet</td>\n",
       "      <td>Banashankari</td>\n",
       "    </tr>\n",
       "    <tr>\n",
       "      <th>4</th>\n",
       "      <td>No</td>\n",
       "      <td>No</td>\n",
       "      <td>3.8</td>\n",
       "      <td>166</td>\n",
       "      <td>Casual Dining</td>\n",
       "      <td>Panipuri, Gol Gappe</td>\n",
       "      <td>North Indian, Rajasthani</td>\n",
       "      <td>600.0</td>\n",
       "      <td>Buffet</td>\n",
       "      <td>Banashankari</td>\n",
       "    </tr>\n",
       "  </tbody>\n",
       "</table>\n",
       "</div>"
      ],
      "text/plain": [
       "  online_order book_table  rate  votes            rest_type  \\\n",
       "0          Yes        Yes   4.1    775        Casual Dining   \n",
       "1          Yes         No   4.1    787        Casual Dining   \n",
       "2          Yes         No   3.8    918  Cafe, Casual Dining   \n",
       "3           No         No   3.7     88          Quick Bites   \n",
       "4           No         No   3.8    166        Casual Dining   \n",
       "\n",
       "                                          dish_liked  \\\n",
       "0  Pasta, Lunch Buffet, Masala Papad, Paneer Laja...   \n",
       "1  Momos, Lunch Buffet, Chocolate Nirvana, Thai G...   \n",
       "2  Churros, Cannelloni, Minestrone Soup, Hot Choc...   \n",
       "3                                        Masala Dosa   \n",
       "4                                Panipuri, Gol Gappe   \n",
       "\n",
       "                         cuisines  approx_cost(for two people)  \\\n",
       "0  North Indian, Mughlai, Chinese                        800.0   \n",
       "1     Chinese, North Indian, Thai                        800.0   \n",
       "2          Cafe, Mexican, Italian                        800.0   \n",
       "3      South Indian, North Indian                        300.0   \n",
       "4        North Indian, Rajasthani                        600.0   \n",
       "\n",
       "  listed_in(type) listed_in(city)  \n",
       "0          Buffet    Banashankari  \n",
       "1          Buffet    Banashankari  \n",
       "2          Buffet    Banashankari  \n",
       "3          Buffet    Banashankari  \n",
       "4          Buffet    Banashankari  "
      ]
     },
     "execution_count": 493,
     "metadata": {},
     "output_type": "execute_result"
    }
   ],
   "source": [
    "zomato_slr.head()"
   ]
  },
  {
   "cell_type": "code",
   "execution_count": 494,
   "id": "4f30018e",
   "metadata": {},
   "outputs": [
    {
     "data": {
      "text/plain": [
       "Delivery              25942\n",
       "Dine-out              17779\n",
       "Desserts               3593\n",
       "Cafes                  1723\n",
       "Drinks & nightlife     1101\n",
       "Buffet                  882\n",
       "Pubs and bars           697\n",
       "Name: listed_in(type), dtype: int64"
      ]
     },
     "execution_count": 494,
     "metadata": {},
     "output_type": "execute_result"
    }
   ],
   "source": [
    "zomato_slr[\"listed_in(type)\"].value_counts()"
   ]
  },
  {
   "cell_type": "code",
   "execution_count": 495,
   "id": "51db74e5",
   "metadata": {},
   "outputs": [
    {
     "data": {
      "text/html": [
       "<div>\n",
       "<style scoped>\n",
       "    .dataframe tbody tr th:only-of-type {\n",
       "        vertical-align: middle;\n",
       "    }\n",
       "\n",
       "    .dataframe tbody tr th {\n",
       "        vertical-align: top;\n",
       "    }\n",
       "\n",
       "    .dataframe thead th {\n",
       "        text-align: right;\n",
       "    }\n",
       "</style>\n",
       "<table border=\"1\" class=\"dataframe\">\n",
       "  <thead>\n",
       "    <tr style=\"text-align: right;\">\n",
       "      <th></th>\n",
       "      <th>online_order</th>\n",
       "      <th>book_table</th>\n",
       "      <th>rate</th>\n",
       "      <th>votes</th>\n",
       "      <th>dish_liked</th>\n",
       "      <th>cuisines</th>\n",
       "      <th>approx_cost(for two people)</th>\n",
       "      <th>listed_in(type)</th>\n",
       "      <th>listed_in(city)</th>\n",
       "    </tr>\n",
       "  </thead>\n",
       "  <tbody>\n",
       "    <tr>\n",
       "      <th>0</th>\n",
       "      <td>Yes</td>\n",
       "      <td>Yes</td>\n",
       "      <td>4.1</td>\n",
       "      <td>775</td>\n",
       "      <td>Pasta, Lunch Buffet, Masala Papad, Paneer Laja...</td>\n",
       "      <td>North Indian, Mughlai, Chinese</td>\n",
       "      <td>800.0</td>\n",
       "      <td>Buffet</td>\n",
       "      <td>Banashankari</td>\n",
       "    </tr>\n",
       "    <tr>\n",
       "      <th>1</th>\n",
       "      <td>Yes</td>\n",
       "      <td>No</td>\n",
       "      <td>4.1</td>\n",
       "      <td>787</td>\n",
       "      <td>Momos, Lunch Buffet, Chocolate Nirvana, Thai G...</td>\n",
       "      <td>Chinese, North Indian, Thai</td>\n",
       "      <td>800.0</td>\n",
       "      <td>Buffet</td>\n",
       "      <td>Banashankari</td>\n",
       "    </tr>\n",
       "    <tr>\n",
       "      <th>2</th>\n",
       "      <td>Yes</td>\n",
       "      <td>No</td>\n",
       "      <td>3.8</td>\n",
       "      <td>918</td>\n",
       "      <td>Churros, Cannelloni, Minestrone Soup, Hot Choc...</td>\n",
       "      <td>Cafe, Mexican, Italian</td>\n",
       "      <td>800.0</td>\n",
       "      <td>Buffet</td>\n",
       "      <td>Banashankari</td>\n",
       "    </tr>\n",
       "    <tr>\n",
       "      <th>3</th>\n",
       "      <td>No</td>\n",
       "      <td>No</td>\n",
       "      <td>3.7</td>\n",
       "      <td>88</td>\n",
       "      <td>Masala Dosa</td>\n",
       "      <td>South Indian, North Indian</td>\n",
       "      <td>300.0</td>\n",
       "      <td>Buffet</td>\n",
       "      <td>Banashankari</td>\n",
       "    </tr>\n",
       "    <tr>\n",
       "      <th>4</th>\n",
       "      <td>No</td>\n",
       "      <td>No</td>\n",
       "      <td>3.8</td>\n",
       "      <td>166</td>\n",
       "      <td>Panipuri, Gol Gappe</td>\n",
       "      <td>North Indian, Rajasthani</td>\n",
       "      <td>600.0</td>\n",
       "      <td>Buffet</td>\n",
       "      <td>Banashankari</td>\n",
       "    </tr>\n",
       "    <tr>\n",
       "      <th>...</th>\n",
       "      <td>...</td>\n",
       "      <td>...</td>\n",
       "      <td>...</td>\n",
       "      <td>...</td>\n",
       "      <td>...</td>\n",
       "      <td>...</td>\n",
       "      <td>...</td>\n",
       "      <td>...</td>\n",
       "      <td>...</td>\n",
       "    </tr>\n",
       "    <tr>\n",
       "      <th>51712</th>\n",
       "      <td>No</td>\n",
       "      <td>No</td>\n",
       "      <td>3.6</td>\n",
       "      <td>27</td>\n",
       "      <td>NaN</td>\n",
       "      <td>Continental</td>\n",
       "      <td>1500.0</td>\n",
       "      <td>Pubs and bars</td>\n",
       "      <td>Whitefield</td>\n",
       "    </tr>\n",
       "    <tr>\n",
       "      <th>51713</th>\n",
       "      <td>No</td>\n",
       "      <td>No</td>\n",
       "      <td>0.0</td>\n",
       "      <td>0</td>\n",
       "      <td>NaN</td>\n",
       "      <td>Finger Food</td>\n",
       "      <td>600.0</td>\n",
       "      <td>Pubs and bars</td>\n",
       "      <td>Whitefield</td>\n",
       "    </tr>\n",
       "    <tr>\n",
       "      <th>51714</th>\n",
       "      <td>No</td>\n",
       "      <td>No</td>\n",
       "      <td>0.0</td>\n",
       "      <td>0</td>\n",
       "      <td>NaN</td>\n",
       "      <td>Finger Food</td>\n",
       "      <td>2000.0</td>\n",
       "      <td>Pubs and bars</td>\n",
       "      <td>Whitefield</td>\n",
       "    </tr>\n",
       "    <tr>\n",
       "      <th>51715</th>\n",
       "      <td>No</td>\n",
       "      <td>Yes</td>\n",
       "      <td>4.3</td>\n",
       "      <td>236</td>\n",
       "      <td>Cocktails, Pizza, Buttermilk</td>\n",
       "      <td>Finger Food</td>\n",
       "      <td>2500.0</td>\n",
       "      <td>Pubs and bars</td>\n",
       "      <td>Whitefield</td>\n",
       "    </tr>\n",
       "    <tr>\n",
       "      <th>51716</th>\n",
       "      <td>No</td>\n",
       "      <td>No</td>\n",
       "      <td>3.4</td>\n",
       "      <td>13</td>\n",
       "      <td>NaN</td>\n",
       "      <td>Finger Food, North Indian, Continental</td>\n",
       "      <td>1500.0</td>\n",
       "      <td>Pubs and bars</td>\n",
       "      <td>Whitefield</td>\n",
       "    </tr>\n",
       "  </tbody>\n",
       "</table>\n",
       "<p>51717 rows × 9 columns</p>\n",
       "</div>"
      ],
      "text/plain": [
       "      online_order book_table  rate  votes  \\\n",
       "0              Yes        Yes   4.1    775   \n",
       "1              Yes         No   4.1    787   \n",
       "2              Yes         No   3.8    918   \n",
       "3               No         No   3.7     88   \n",
       "4               No         No   3.8    166   \n",
       "...            ...        ...   ...    ...   \n",
       "51712           No         No   3.6     27   \n",
       "51713           No         No   0.0      0   \n",
       "51714           No         No   0.0      0   \n",
       "51715           No        Yes   4.3    236   \n",
       "51716           No         No   3.4     13   \n",
       "\n",
       "                                              dish_liked  \\\n",
       "0      Pasta, Lunch Buffet, Masala Papad, Paneer Laja...   \n",
       "1      Momos, Lunch Buffet, Chocolate Nirvana, Thai G...   \n",
       "2      Churros, Cannelloni, Minestrone Soup, Hot Choc...   \n",
       "3                                            Masala Dosa   \n",
       "4                                    Panipuri, Gol Gappe   \n",
       "...                                                  ...   \n",
       "51712                                                NaN   \n",
       "51713                                                NaN   \n",
       "51714                                                NaN   \n",
       "51715                       Cocktails, Pizza, Buttermilk   \n",
       "51716                                                NaN   \n",
       "\n",
       "                                     cuisines  approx_cost(for two people)  \\\n",
       "0              North Indian, Mughlai, Chinese                        800.0   \n",
       "1                 Chinese, North Indian, Thai                        800.0   \n",
       "2                      Cafe, Mexican, Italian                        800.0   \n",
       "3                  South Indian, North Indian                        300.0   \n",
       "4                    North Indian, Rajasthani                        600.0   \n",
       "...                                       ...                          ...   \n",
       "51712                             Continental                       1500.0   \n",
       "51713                             Finger Food                        600.0   \n",
       "51714                             Finger Food                       2000.0   \n",
       "51715                             Finger Food                       2500.0   \n",
       "51716  Finger Food, North Indian, Continental                       1500.0   \n",
       "\n",
       "      listed_in(type) listed_in(city)  \n",
       "0              Buffet    Banashankari  \n",
       "1              Buffet    Banashankari  \n",
       "2              Buffet    Banashankari  \n",
       "3              Buffet    Banashankari  \n",
       "4              Buffet    Banashankari  \n",
       "...               ...             ...  \n",
       "51712   Pubs and bars      Whitefield  \n",
       "51713   Pubs and bars      Whitefield  \n",
       "51714   Pubs and bars      Whitefield  \n",
       "51715   Pubs and bars      Whitefield  \n",
       "51716   Pubs and bars      Whitefield  \n",
       "\n",
       "[51717 rows x 9 columns]"
      ]
     },
     "execution_count": 495,
     "metadata": {},
     "output_type": "execute_result"
    }
   ],
   "source": [
    "zomato_slr.drop(\"rest_type\",axis=1)"
   ]
  },
  {
   "cell_type": "code",
   "execution_count": 496,
   "id": "9f3c82a0",
   "metadata": {},
   "outputs": [
    {
     "data": {
      "text/html": [
       "<div>\n",
       "<style scoped>\n",
       "    .dataframe tbody tr th:only-of-type {\n",
       "        vertical-align: middle;\n",
       "    }\n",
       "\n",
       "    .dataframe tbody tr th {\n",
       "        vertical-align: top;\n",
       "    }\n",
       "\n",
       "    .dataframe thead th {\n",
       "        text-align: right;\n",
       "    }\n",
       "</style>\n",
       "<table border=\"1\" class=\"dataframe\">\n",
       "  <thead>\n",
       "    <tr style=\"text-align: right;\">\n",
       "      <th></th>\n",
       "      <th>online_order</th>\n",
       "      <th>book_table</th>\n",
       "      <th>rate</th>\n",
       "      <th>votes</th>\n",
       "      <th>rest_type</th>\n",
       "      <th>dish_liked</th>\n",
       "      <th>cuisines</th>\n",
       "      <th>approx_cost(for two people)</th>\n",
       "      <th>listed_in(type)</th>\n",
       "      <th>listed_in(city)</th>\n",
       "    </tr>\n",
       "  </thead>\n",
       "  <tbody>\n",
       "    <tr>\n",
       "      <th>0</th>\n",
       "      <td>Yes</td>\n",
       "      <td>Yes</td>\n",
       "      <td>4.1</td>\n",
       "      <td>775</td>\n",
       "      <td>Casual Dining</td>\n",
       "      <td>Pasta, Lunch Buffet, Masala Papad, Paneer Laja...</td>\n",
       "      <td>North Indian, Mughlai, Chinese</td>\n",
       "      <td>800.0</td>\n",
       "      <td>Buffet</td>\n",
       "      <td>Banashankari</td>\n",
       "    </tr>\n",
       "    <tr>\n",
       "      <th>1</th>\n",
       "      <td>Yes</td>\n",
       "      <td>No</td>\n",
       "      <td>4.1</td>\n",
       "      <td>787</td>\n",
       "      <td>Casual Dining</td>\n",
       "      <td>Momos, Lunch Buffet, Chocolate Nirvana, Thai G...</td>\n",
       "      <td>Chinese, North Indian, Thai</td>\n",
       "      <td>800.0</td>\n",
       "      <td>Buffet</td>\n",
       "      <td>Banashankari</td>\n",
       "    </tr>\n",
       "    <tr>\n",
       "      <th>2</th>\n",
       "      <td>Yes</td>\n",
       "      <td>No</td>\n",
       "      <td>3.8</td>\n",
       "      <td>918</td>\n",
       "      <td>Cafe, Casual Dining</td>\n",
       "      <td>Churros, Cannelloni, Minestrone Soup, Hot Choc...</td>\n",
       "      <td>Cafe, Mexican, Italian</td>\n",
       "      <td>800.0</td>\n",
       "      <td>Buffet</td>\n",
       "      <td>Banashankari</td>\n",
       "    </tr>\n",
       "    <tr>\n",
       "      <th>3</th>\n",
       "      <td>No</td>\n",
       "      <td>No</td>\n",
       "      <td>3.7</td>\n",
       "      <td>88</td>\n",
       "      <td>Quick Bites</td>\n",
       "      <td>Masala Dosa</td>\n",
       "      <td>South Indian, North Indian</td>\n",
       "      <td>300.0</td>\n",
       "      <td>Buffet</td>\n",
       "      <td>Banashankari</td>\n",
       "    </tr>\n",
       "    <tr>\n",
       "      <th>4</th>\n",
       "      <td>No</td>\n",
       "      <td>No</td>\n",
       "      <td>3.8</td>\n",
       "      <td>166</td>\n",
       "      <td>Casual Dining</td>\n",
       "      <td>Panipuri, Gol Gappe</td>\n",
       "      <td>North Indian, Rajasthani</td>\n",
       "      <td>600.0</td>\n",
       "      <td>Buffet</td>\n",
       "      <td>Banashankari</td>\n",
       "    </tr>\n",
       "  </tbody>\n",
       "</table>\n",
       "</div>"
      ],
      "text/plain": [
       "  online_order book_table  rate  votes            rest_type  \\\n",
       "0          Yes        Yes   4.1    775        Casual Dining   \n",
       "1          Yes         No   4.1    787        Casual Dining   \n",
       "2          Yes         No   3.8    918  Cafe, Casual Dining   \n",
       "3           No         No   3.7     88          Quick Bites   \n",
       "4           No         No   3.8    166        Casual Dining   \n",
       "\n",
       "                                          dish_liked  \\\n",
       "0  Pasta, Lunch Buffet, Masala Papad, Paneer Laja...   \n",
       "1  Momos, Lunch Buffet, Chocolate Nirvana, Thai G...   \n",
       "2  Churros, Cannelloni, Minestrone Soup, Hot Choc...   \n",
       "3                                        Masala Dosa   \n",
       "4                                Panipuri, Gol Gappe   \n",
       "\n",
       "                         cuisines  approx_cost(for two people)  \\\n",
       "0  North Indian, Mughlai, Chinese                        800.0   \n",
       "1     Chinese, North Indian, Thai                        800.0   \n",
       "2          Cafe, Mexican, Italian                        800.0   \n",
       "3      South Indian, North Indian                        300.0   \n",
       "4        North Indian, Rajasthani                        600.0   \n",
       "\n",
       "  listed_in(type) listed_in(city)  \n",
       "0          Buffet    Banashankari  \n",
       "1          Buffet    Banashankari  \n",
       "2          Buffet    Banashankari  \n",
       "3          Buffet    Banashankari  \n",
       "4          Buffet    Banashankari  "
      ]
     },
     "execution_count": 496,
     "metadata": {},
     "output_type": "execute_result"
    }
   ],
   "source": [
    "zomato_slr.head(5)"
   ]
  },
  {
   "cell_type": "code",
   "execution_count": 497,
   "id": "a6719857",
   "metadata": {},
   "outputs": [],
   "source": [
    "zomato_slr.rename(columns={\"approx_cost(for two people)\":\"cost_for_2\"},inplace=True)"
   ]
  },
  {
   "cell_type": "code",
   "execution_count": 499,
   "id": "f8cf7600",
   "metadata": {},
   "outputs": [
    {
     "data": {
      "text/plain": [
       "Index(['online_order', 'book_table', 'rate', 'votes', 'rest_type',\n",
       "       'dish_liked', 'cuisines', 'cost_for_2', 'listed_in(type)',\n",
       "       'listed_in(city)'],\n",
       "      dtype='object')"
      ]
     },
     "execution_count": 499,
     "metadata": {},
     "output_type": "execute_result"
    }
   ],
   "source": [
    "zomato_slr.columns"
   ]
  },
  {
   "cell_type": "code",
   "execution_count": 500,
   "id": "77a906cd",
   "metadata": {},
   "outputs": [
    {
     "data": {
      "text/plain": [
       "online_order           0\n",
       "book_table             0\n",
       "rate                   0\n",
       "votes                  0\n",
       "rest_type            227\n",
       "dish_liked         28078\n",
       "cuisines              45\n",
       "cost_for_2           346\n",
       "listed_in(type)        0\n",
       "listed_in(city)        0\n",
       "dtype: int64"
      ]
     },
     "execution_count": 500,
     "metadata": {},
     "output_type": "execute_result"
    }
   ],
   "source": [
    "zomato_slr.isnull().sum()"
   ]
  },
  {
   "cell_type": "code",
   "execution_count": 501,
   "id": "a7f9dc87",
   "metadata": {},
   "outputs": [],
   "source": [
    "zomato_slr.drop(\"dish_liked\",axis=1,inplace=True)"
   ]
  },
  {
   "cell_type": "code",
   "execution_count": 502,
   "id": "2d6b6e10",
   "metadata": {},
   "outputs": [],
   "source": [
    "zomato_slr.dropna(axis=0,inplace=True)"
   ]
  },
  {
   "cell_type": "code",
   "execution_count": 503,
   "id": "11c3f479",
   "metadata": {},
   "outputs": [],
   "source": [
    "zomato_slr.drop(\"rest_type\",axis=1,inplace=True)"
   ]
  },
  {
   "cell_type": "code",
   "execution_count": 504,
   "id": "aaab54e1",
   "metadata": {},
   "outputs": [
    {
     "data": {
      "text/plain": [
       "(51148, 8)"
      ]
     },
     "execution_count": 504,
     "metadata": {},
     "output_type": "execute_result"
    }
   ],
   "source": [
    "zomato_slr.shape"
   ]
  },
  {
   "cell_type": "code",
   "execution_count": 505,
   "id": "64bcf8f6",
   "metadata": {},
   "outputs": [
    {
     "data": {
      "text/html": [
       "<div>\n",
       "<style scoped>\n",
       "    .dataframe tbody tr th:only-of-type {\n",
       "        vertical-align: middle;\n",
       "    }\n",
       "\n",
       "    .dataframe tbody tr th {\n",
       "        vertical-align: top;\n",
       "    }\n",
       "\n",
       "    .dataframe thead th {\n",
       "        text-align: right;\n",
       "    }\n",
       "</style>\n",
       "<table border=\"1\" class=\"dataframe\">\n",
       "  <thead>\n",
       "    <tr style=\"text-align: right;\">\n",
       "      <th></th>\n",
       "      <th>online_order</th>\n",
       "      <th>book_table</th>\n",
       "      <th>rate</th>\n",
       "      <th>votes</th>\n",
       "      <th>cuisines</th>\n",
       "      <th>cost_for_2</th>\n",
       "      <th>listed_in(type)</th>\n",
       "      <th>listed_in(city)</th>\n",
       "    </tr>\n",
       "  </thead>\n",
       "  <tbody>\n",
       "    <tr>\n",
       "      <th>0</th>\n",
       "      <td>Yes</td>\n",
       "      <td>Yes</td>\n",
       "      <td>4.1</td>\n",
       "      <td>775</td>\n",
       "      <td>North Indian, Mughlai, Chinese</td>\n",
       "      <td>800.0</td>\n",
       "      <td>Buffet</td>\n",
       "      <td>Banashankari</td>\n",
       "    </tr>\n",
       "    <tr>\n",
       "      <th>1</th>\n",
       "      <td>Yes</td>\n",
       "      <td>No</td>\n",
       "      <td>4.1</td>\n",
       "      <td>787</td>\n",
       "      <td>Chinese, North Indian, Thai</td>\n",
       "      <td>800.0</td>\n",
       "      <td>Buffet</td>\n",
       "      <td>Banashankari</td>\n",
       "    </tr>\n",
       "    <tr>\n",
       "      <th>2</th>\n",
       "      <td>Yes</td>\n",
       "      <td>No</td>\n",
       "      <td>3.8</td>\n",
       "      <td>918</td>\n",
       "      <td>Cafe, Mexican, Italian</td>\n",
       "      <td>800.0</td>\n",
       "      <td>Buffet</td>\n",
       "      <td>Banashankari</td>\n",
       "    </tr>\n",
       "    <tr>\n",
       "      <th>3</th>\n",
       "      <td>No</td>\n",
       "      <td>No</td>\n",
       "      <td>3.7</td>\n",
       "      <td>88</td>\n",
       "      <td>South Indian, North Indian</td>\n",
       "      <td>300.0</td>\n",
       "      <td>Buffet</td>\n",
       "      <td>Banashankari</td>\n",
       "    </tr>\n",
       "    <tr>\n",
       "      <th>4</th>\n",
       "      <td>No</td>\n",
       "      <td>No</td>\n",
       "      <td>3.8</td>\n",
       "      <td>166</td>\n",
       "      <td>North Indian, Rajasthani</td>\n",
       "      <td>600.0</td>\n",
       "      <td>Buffet</td>\n",
       "      <td>Banashankari</td>\n",
       "    </tr>\n",
       "    <tr>\n",
       "      <th>...</th>\n",
       "      <td>...</td>\n",
       "      <td>...</td>\n",
       "      <td>...</td>\n",
       "      <td>...</td>\n",
       "      <td>...</td>\n",
       "      <td>...</td>\n",
       "      <td>...</td>\n",
       "      <td>...</td>\n",
       "    </tr>\n",
       "    <tr>\n",
       "      <th>51712</th>\n",
       "      <td>No</td>\n",
       "      <td>No</td>\n",
       "      <td>3.6</td>\n",
       "      <td>27</td>\n",
       "      <td>Continental</td>\n",
       "      <td>1500.0</td>\n",
       "      <td>Pubs and bars</td>\n",
       "      <td>Whitefield</td>\n",
       "    </tr>\n",
       "    <tr>\n",
       "      <th>51713</th>\n",
       "      <td>No</td>\n",
       "      <td>No</td>\n",
       "      <td>0.0</td>\n",
       "      <td>0</td>\n",
       "      <td>Finger Food</td>\n",
       "      <td>600.0</td>\n",
       "      <td>Pubs and bars</td>\n",
       "      <td>Whitefield</td>\n",
       "    </tr>\n",
       "    <tr>\n",
       "      <th>51714</th>\n",
       "      <td>No</td>\n",
       "      <td>No</td>\n",
       "      <td>0.0</td>\n",
       "      <td>0</td>\n",
       "      <td>Finger Food</td>\n",
       "      <td>2000.0</td>\n",
       "      <td>Pubs and bars</td>\n",
       "      <td>Whitefield</td>\n",
       "    </tr>\n",
       "    <tr>\n",
       "      <th>51715</th>\n",
       "      <td>No</td>\n",
       "      <td>Yes</td>\n",
       "      <td>4.3</td>\n",
       "      <td>236</td>\n",
       "      <td>Finger Food</td>\n",
       "      <td>2500.0</td>\n",
       "      <td>Pubs and bars</td>\n",
       "      <td>Whitefield</td>\n",
       "    </tr>\n",
       "    <tr>\n",
       "      <th>51716</th>\n",
       "      <td>No</td>\n",
       "      <td>No</td>\n",
       "      <td>3.4</td>\n",
       "      <td>13</td>\n",
       "      <td>Finger Food, North Indian, Continental</td>\n",
       "      <td>1500.0</td>\n",
       "      <td>Pubs and bars</td>\n",
       "      <td>Whitefield</td>\n",
       "    </tr>\n",
       "  </tbody>\n",
       "</table>\n",
       "<p>51148 rows × 8 columns</p>\n",
       "</div>"
      ],
      "text/plain": [
       "      online_order book_table  rate  votes  \\\n",
       "0              Yes        Yes   4.1    775   \n",
       "1              Yes         No   4.1    787   \n",
       "2              Yes         No   3.8    918   \n",
       "3               No         No   3.7     88   \n",
       "4               No         No   3.8    166   \n",
       "...            ...        ...   ...    ...   \n",
       "51712           No         No   3.6     27   \n",
       "51713           No         No   0.0      0   \n",
       "51714           No         No   0.0      0   \n",
       "51715           No        Yes   4.3    236   \n",
       "51716           No         No   3.4     13   \n",
       "\n",
       "                                     cuisines  cost_for_2 listed_in(type)  \\\n",
       "0              North Indian, Mughlai, Chinese       800.0          Buffet   \n",
       "1                 Chinese, North Indian, Thai       800.0          Buffet   \n",
       "2                      Cafe, Mexican, Italian       800.0          Buffet   \n",
       "3                  South Indian, North Indian       300.0          Buffet   \n",
       "4                    North Indian, Rajasthani       600.0          Buffet   \n",
       "...                                       ...         ...             ...   \n",
       "51712                             Continental      1500.0   Pubs and bars   \n",
       "51713                             Finger Food       600.0   Pubs and bars   \n",
       "51714                             Finger Food      2000.0   Pubs and bars   \n",
       "51715                             Finger Food      2500.0   Pubs and bars   \n",
       "51716  Finger Food, North Indian, Continental      1500.0   Pubs and bars   \n",
       "\n",
       "      listed_in(city)  \n",
       "0        Banashankari  \n",
       "1        Banashankari  \n",
       "2        Banashankari  \n",
       "3        Banashankari  \n",
       "4        Banashankari  \n",
       "...               ...  \n",
       "51712      Whitefield  \n",
       "51713      Whitefield  \n",
       "51714      Whitefield  \n",
       "51715      Whitefield  \n",
       "51716      Whitefield  \n",
       "\n",
       "[51148 rows x 8 columns]"
      ]
     },
     "execution_count": 505,
     "metadata": {},
     "output_type": "execute_result"
    }
   ],
   "source": [
    "zomato_slr"
   ]
  },
  {
   "cell_type": "code",
   "execution_count": 506,
   "id": "95c9b5c6",
   "metadata": {},
   "outputs": [
    {
     "data": {
      "text/plain": [
       "0                North Indian, Mughlai, Chinese\n",
       "1                   Chinese, North Indian, Thai\n",
       "2                        Cafe, Mexican, Italian\n",
       "3                    South Indian, North Indian\n",
       "4                      North Indian, Rajasthani\n",
       "                          ...                  \n",
       "51712                               Continental\n",
       "51713                               Finger Food\n",
       "51714                               Finger Food\n",
       "51715                               Finger Food\n",
       "51716    Finger Food, North Indian, Continental\n",
       "Name: cuisines, Length: 51148, dtype: object"
      ]
     },
     "execution_count": 506,
     "metadata": {},
     "output_type": "execute_result"
    }
   ],
   "source": [
    "zomato_slr[\"cuisines\"]"
   ]
  },
  {
   "cell_type": "code",
   "execution_count": 507,
   "id": "53194d11",
   "metadata": {},
   "outputs": [
    {
     "data": {
      "text/plain": [
       "2"
      ]
     },
     "execution_count": 507,
     "metadata": {},
     "output_type": "execute_result"
    }
   ],
   "source": [
    "len((\"North Indian, Chinese\".split(\",\")))"
   ]
  },
  {
   "cell_type": "code",
   "execution_count": 508,
   "id": "67400dfa",
   "metadata": {},
   "outputs": [
    {
     "data": {
      "text/plain": [
       "(51148, 8)"
      ]
     },
     "execution_count": 508,
     "metadata": {},
     "output_type": "execute_result"
    }
   ],
   "source": [
    "zomato_slr.shape"
   ]
  },
  {
   "cell_type": "code",
   "execution_count": 509,
   "id": "8874f106",
   "metadata": {
    "scrolled": true
   },
   "outputs": [],
   "source": [
    "zomato_slr[\"cuisines\"]=zomato_slr[\"cuisines\"].apply(lambda x: len((x.split(\",\"))))\n"
   ]
  },
  {
   "cell_type": "code",
   "execution_count": 510,
   "id": "026d522e",
   "metadata": {},
   "outputs": [],
   "source": [
    "zomato_slr[\"cuisines\"]=zomato_slr[\"cuisines\"].astype(object)"
   ]
  },
  {
   "cell_type": "code",
   "execution_count": 511,
   "id": "d584116e",
   "metadata": {},
   "outputs": [
    {
     "data": {
      "text/html": [
       "<div>\n",
       "<style scoped>\n",
       "    .dataframe tbody tr th:only-of-type {\n",
       "        vertical-align: middle;\n",
       "    }\n",
       "\n",
       "    .dataframe tbody tr th {\n",
       "        vertical-align: top;\n",
       "    }\n",
       "\n",
       "    .dataframe thead th {\n",
       "        text-align: right;\n",
       "    }\n",
       "</style>\n",
       "<table border=\"1\" class=\"dataframe\">\n",
       "  <thead>\n",
       "    <tr style=\"text-align: right;\">\n",
       "      <th></th>\n",
       "      <th>online_order</th>\n",
       "      <th>book_table</th>\n",
       "      <th>rate</th>\n",
       "      <th>votes</th>\n",
       "      <th>cuisines</th>\n",
       "      <th>cost_for_2</th>\n",
       "      <th>listed_in(type)</th>\n",
       "      <th>listed_in(city)</th>\n",
       "    </tr>\n",
       "  </thead>\n",
       "  <tbody>\n",
       "    <tr>\n",
       "      <th>0</th>\n",
       "      <td>Yes</td>\n",
       "      <td>Yes</td>\n",
       "      <td>4.1</td>\n",
       "      <td>775</td>\n",
       "      <td>3</td>\n",
       "      <td>800.0</td>\n",
       "      <td>Buffet</td>\n",
       "      <td>Banashankari</td>\n",
       "    </tr>\n",
       "    <tr>\n",
       "      <th>1</th>\n",
       "      <td>Yes</td>\n",
       "      <td>No</td>\n",
       "      <td>4.1</td>\n",
       "      <td>787</td>\n",
       "      <td>3</td>\n",
       "      <td>800.0</td>\n",
       "      <td>Buffet</td>\n",
       "      <td>Banashankari</td>\n",
       "    </tr>\n",
       "    <tr>\n",
       "      <th>2</th>\n",
       "      <td>Yes</td>\n",
       "      <td>No</td>\n",
       "      <td>3.8</td>\n",
       "      <td>918</td>\n",
       "      <td>3</td>\n",
       "      <td>800.0</td>\n",
       "      <td>Buffet</td>\n",
       "      <td>Banashankari</td>\n",
       "    </tr>\n",
       "    <tr>\n",
       "      <th>3</th>\n",
       "      <td>No</td>\n",
       "      <td>No</td>\n",
       "      <td>3.7</td>\n",
       "      <td>88</td>\n",
       "      <td>2</td>\n",
       "      <td>300.0</td>\n",
       "      <td>Buffet</td>\n",
       "      <td>Banashankari</td>\n",
       "    </tr>\n",
       "    <tr>\n",
       "      <th>4</th>\n",
       "      <td>No</td>\n",
       "      <td>No</td>\n",
       "      <td>3.8</td>\n",
       "      <td>166</td>\n",
       "      <td>2</td>\n",
       "      <td>600.0</td>\n",
       "      <td>Buffet</td>\n",
       "      <td>Banashankari</td>\n",
       "    </tr>\n",
       "  </tbody>\n",
       "</table>\n",
       "</div>"
      ],
      "text/plain": [
       "  online_order book_table  rate  votes cuisines  cost_for_2 listed_in(type)  \\\n",
       "0          Yes        Yes   4.1    775        3       800.0          Buffet   \n",
       "1          Yes         No   4.1    787        3       800.0          Buffet   \n",
       "2          Yes         No   3.8    918        3       800.0          Buffet   \n",
       "3           No         No   3.7     88        2       300.0          Buffet   \n",
       "4           No         No   3.8    166        2       600.0          Buffet   \n",
       "\n",
       "  listed_in(city)  \n",
       "0    Banashankari  \n",
       "1    Banashankari  \n",
       "2    Banashankari  \n",
       "3    Banashankari  \n",
       "4    Banashankari  "
      ]
     },
     "execution_count": 511,
     "metadata": {},
     "output_type": "execute_result"
    }
   ],
   "source": [
    "zomato_slr.head()"
   ]
  },
  {
   "cell_type": "code",
   "execution_count": 513,
   "id": "e2a191b9",
   "metadata": {
    "scrolled": false
   },
   "outputs": [
    {
     "data": {
      "text/html": [
       "<div>\n",
       "<style scoped>\n",
       "    .dataframe tbody tr th:only-of-type {\n",
       "        vertical-align: middle;\n",
       "    }\n",
       "\n",
       "    .dataframe tbody tr th {\n",
       "        vertical-align: top;\n",
       "    }\n",
       "\n",
       "    .dataframe thead th {\n",
       "        text-align: right;\n",
       "    }\n",
       "</style>\n",
       "<table border=\"1\" class=\"dataframe\">\n",
       "  <thead>\n",
       "    <tr style=\"text-align: right;\">\n",
       "      <th></th>\n",
       "      <th>online_order</th>\n",
       "      <th>book_table</th>\n",
       "      <th>rate</th>\n",
       "      <th>votes</th>\n",
       "      <th>cuisines</th>\n",
       "      <th>cost_for_2</th>\n",
       "      <th>listed_in(type)</th>\n",
       "      <th>listed_in(city)</th>\n",
       "    </tr>\n",
       "  </thead>\n",
       "  <tbody>\n",
       "    <tr>\n",
       "      <th>0</th>\n",
       "      <td>Yes</td>\n",
       "      <td>Yes</td>\n",
       "      <td>4.1</td>\n",
       "      <td>775</td>\n",
       "      <td>3</td>\n",
       "      <td>800.0</td>\n",
       "      <td>Buffet</td>\n",
       "      <td>Banashankari</td>\n",
       "    </tr>\n",
       "    <tr>\n",
       "      <th>1</th>\n",
       "      <td>Yes</td>\n",
       "      <td>No</td>\n",
       "      <td>4.1</td>\n",
       "      <td>787</td>\n",
       "      <td>3</td>\n",
       "      <td>800.0</td>\n",
       "      <td>Buffet</td>\n",
       "      <td>Banashankari</td>\n",
       "    </tr>\n",
       "    <tr>\n",
       "      <th>2</th>\n",
       "      <td>Yes</td>\n",
       "      <td>No</td>\n",
       "      <td>3.8</td>\n",
       "      <td>918</td>\n",
       "      <td>3</td>\n",
       "      <td>800.0</td>\n",
       "      <td>Buffet</td>\n",
       "      <td>Banashankari</td>\n",
       "    </tr>\n",
       "    <tr>\n",
       "      <th>3</th>\n",
       "      <td>No</td>\n",
       "      <td>No</td>\n",
       "      <td>3.7</td>\n",
       "      <td>88</td>\n",
       "      <td>2</td>\n",
       "      <td>300.0</td>\n",
       "      <td>Buffet</td>\n",
       "      <td>Banashankari</td>\n",
       "    </tr>\n",
       "    <tr>\n",
       "      <th>4</th>\n",
       "      <td>No</td>\n",
       "      <td>No</td>\n",
       "      <td>3.8</td>\n",
       "      <td>166</td>\n",
       "      <td>2</td>\n",
       "      <td>600.0</td>\n",
       "      <td>Buffet</td>\n",
       "      <td>Banashankari</td>\n",
       "    </tr>\n",
       "    <tr>\n",
       "      <th>...</th>\n",
       "      <td>...</td>\n",
       "      <td>...</td>\n",
       "      <td>...</td>\n",
       "      <td>...</td>\n",
       "      <td>...</td>\n",
       "      <td>...</td>\n",
       "      <td>...</td>\n",
       "      <td>...</td>\n",
       "    </tr>\n",
       "    <tr>\n",
       "      <th>51712</th>\n",
       "      <td>No</td>\n",
       "      <td>No</td>\n",
       "      <td>3.6</td>\n",
       "      <td>27</td>\n",
       "      <td>1</td>\n",
       "      <td>1500.0</td>\n",
       "      <td>Pubs and bars</td>\n",
       "      <td>Whitefield</td>\n",
       "    </tr>\n",
       "    <tr>\n",
       "      <th>51713</th>\n",
       "      <td>No</td>\n",
       "      <td>No</td>\n",
       "      <td>0.0</td>\n",
       "      <td>0</td>\n",
       "      <td>1</td>\n",
       "      <td>600.0</td>\n",
       "      <td>Pubs and bars</td>\n",
       "      <td>Whitefield</td>\n",
       "    </tr>\n",
       "    <tr>\n",
       "      <th>51714</th>\n",
       "      <td>No</td>\n",
       "      <td>No</td>\n",
       "      <td>0.0</td>\n",
       "      <td>0</td>\n",
       "      <td>1</td>\n",
       "      <td>2000.0</td>\n",
       "      <td>Pubs and bars</td>\n",
       "      <td>Whitefield</td>\n",
       "    </tr>\n",
       "    <tr>\n",
       "      <th>51715</th>\n",
       "      <td>No</td>\n",
       "      <td>Yes</td>\n",
       "      <td>4.3</td>\n",
       "      <td>236</td>\n",
       "      <td>1</td>\n",
       "      <td>2500.0</td>\n",
       "      <td>Pubs and bars</td>\n",
       "      <td>Whitefield</td>\n",
       "    </tr>\n",
       "    <tr>\n",
       "      <th>51716</th>\n",
       "      <td>No</td>\n",
       "      <td>No</td>\n",
       "      <td>3.4</td>\n",
       "      <td>13</td>\n",
       "      <td>3</td>\n",
       "      <td>1500.0</td>\n",
       "      <td>Pubs and bars</td>\n",
       "      <td>Whitefield</td>\n",
       "    </tr>\n",
       "  </tbody>\n",
       "</table>\n",
       "<p>45082 rows × 8 columns</p>\n",
       "</div>"
      ],
      "text/plain": [
       "      online_order book_table  rate  votes cuisines  cost_for_2  \\\n",
       "0              Yes        Yes   4.1    775        3       800.0   \n",
       "1              Yes         No   4.1    787        3       800.0   \n",
       "2              Yes         No   3.8    918        3       800.0   \n",
       "3               No         No   3.7     88        2       300.0   \n",
       "4               No         No   3.8    166        2       600.0   \n",
       "...            ...        ...   ...    ...      ...         ...   \n",
       "51712           No         No   3.6     27        1      1500.0   \n",
       "51713           No         No   0.0      0        1       600.0   \n",
       "51714           No         No   0.0      0        1      2000.0   \n",
       "51715           No        Yes   4.3    236        1      2500.0   \n",
       "51716           No         No   3.4     13        3      1500.0   \n",
       "\n",
       "      listed_in(type) listed_in(city)  \n",
       "0              Buffet    Banashankari  \n",
       "1              Buffet    Banashankari  \n",
       "2              Buffet    Banashankari  \n",
       "3              Buffet    Banashankari  \n",
       "4              Buffet    Banashankari  \n",
       "...               ...             ...  \n",
       "51712   Pubs and bars      Whitefield  \n",
       "51713   Pubs and bars      Whitefield  \n",
       "51714   Pubs and bars      Whitefield  \n",
       "51715   Pubs and bars      Whitefield  \n",
       "51716   Pubs and bars      Whitefield  \n",
       "\n",
       "[45082 rows x 8 columns]"
      ]
     },
     "execution_count": 513,
     "metadata": {},
     "output_type": "execute_result"
    }
   ],
   "source": [
    "df=zomato_slr[~zomato_slr.duplicated()]\n",
    "df"
   ]
  },
  {
   "cell_type": "code",
   "execution_count": 514,
   "id": "b78a7e21",
   "metadata": {
    "scrolled": true
   },
   "outputs": [
    {
     "data": {
      "text/plain": [
       "online_order       0\n",
       "book_table         0\n",
       "rate               0\n",
       "votes              0\n",
       "cuisines           0\n",
       "cost_for_2         0\n",
       "listed_in(type)    0\n",
       "listed_in(city)    0\n",
       "dtype: int64"
      ]
     },
     "execution_count": 514,
     "metadata": {},
     "output_type": "execute_result"
    }
   ],
   "source": [
    "df.isnull().sum()"
   ]
  },
  {
   "cell_type": "code",
   "execution_count": 515,
   "id": "ba4c5288",
   "metadata": {
    "scrolled": true
   },
   "outputs": [
    {
     "data": {
      "text/plain": [
       "(45082, 8)"
      ]
     },
     "execution_count": 515,
     "metadata": {},
     "output_type": "execute_result"
    }
   ],
   "source": [
    "df.shape"
   ]
  },
  {
   "cell_type": "code",
   "execution_count": 228,
   "id": "f902d5a9",
   "metadata": {},
   "outputs": [],
   "source": [
    "df.rename(columns={\"listed_in(type)\":\"listed_type\",\n",
    "           \"listed_in(city)\":\"listed_city\"},inplace=True)"
   ]
  },
  {
   "cell_type": "code",
   "execution_count": 229,
   "id": "04f54c0a",
   "metadata": {},
   "outputs": [
    {
     "data": {
      "text/plain": [
       "Index(['online_order', 'book_table', 'rate', 'votes', 'cuisines', 'cost_for_2',\n",
       "       'listed_type', 'listed_city'],\n",
       "      dtype='object')"
      ]
     },
     "execution_count": 229,
     "metadata": {},
     "output_type": "execute_result"
    }
   ],
   "source": [
    "df.columns"
   ]
  },
  {
   "cell_type": "code",
   "execution_count": 230,
   "id": "b831cb83",
   "metadata": {},
   "outputs": [
    {
     "data": {
      "text/plain": [
       "array(['Banashankari', 'Bannerghatta Road', 'Basavanagudi', 'Bellandur',\n",
       "       'Brigade Road', 'Brookefield', 'BTM', 'Church Street',\n",
       "       'Electronic City', 'Frazer Town', 'HSR', 'Indiranagar',\n",
       "       'Jayanagar', 'JP Nagar', 'Kalyan Nagar', 'Kammanahalli',\n",
       "       'Koramangala 4th Block', 'Koramangala 5th Block',\n",
       "       'Koramangala 6th Block', 'Koramangala 7th Block', 'Lavelle Road',\n",
       "       'Malleshwaram', 'Marathahalli', 'MG Road', 'New BEL Road',\n",
       "       'Old Airport Road', 'Rajajinagar', 'Residency Road',\n",
       "       'Sarjapur Road', 'Whitefield'], dtype=object)"
      ]
     },
     "execution_count": 230,
     "metadata": {},
     "output_type": "execute_result"
    }
   ],
   "source": [
    "df[\"listed_city\"].unique()"
   ]
  },
  {
   "cell_type": "code",
   "execution_count": 516,
   "id": "70ca1ab2",
   "metadata": {},
   "outputs": [],
   "source": [
    "#feature engineering to reduce the class"
   ]
  },
  {
   "cell_type": "code",
   "execution_count": 231,
   "id": "4bd37b93",
   "metadata": {},
   "outputs": [
    {
     "data": {
      "text/plain": [
       "15"
      ]
     },
     "execution_count": 231,
     "metadata": {},
     "output_type": "execute_result"
    }
   ],
   "source": [
    "Blr_south=['Banashankari','Bannerghatta Road','BTM','Basavanagudi','Jayanagar','JP Nagar','Koramangala 4th Block', 'Koramangala 5th Block',\n",
    "       'Koramangala 6th Block', 'Koramangala 7th Block','Sarjapur Road','Whitefield','Electronic City','HSR','Bellandur']\n",
    "len(Blr_south)"
   ]
  },
  {
   "cell_type": "code",
   "execution_count": 232,
   "id": "f8064e88",
   "metadata": {},
   "outputs": [
    {
     "data": {
      "text/plain": [
       "15"
      ]
     },
     "execution_count": 232,
     "metadata": {},
     "output_type": "execute_result"
    }
   ],
   "source": [
    "Blr_north=['Rajajinagar','Church Street','MG Road','Marathahalli','New BEL Road','Old Airport Road','Residency Road','Malleshwaram','Marathahalli','Frazer Town','Indiranagar','Brigade Road','Kalyan Nagar','Kammanahalli','Brookefield']\n",
    "len(Blr_north)"
   ]
  },
  {
   "cell_type": "code",
   "execution_count": 233,
   "id": "72c2d733",
   "metadata": {},
   "outputs": [
    {
     "data": {
      "text/plain": [
       "B_South    27145\n",
       "B_North    17937\n",
       "Name: listed_city, dtype: int64"
      ]
     },
     "execution_count": 233,
     "metadata": {},
     "output_type": "execute_result"
    }
   ],
   "source": [
    "df[\"listed_city\"].apply(lambda x : \"B_North\" if x in Blr_north else \"B_South\" ).value_counts()"
   ]
  },
  {
   "cell_type": "code",
   "execution_count": 234,
   "id": "4b2348e6",
   "metadata": {},
   "outputs": [],
   "source": [
    "df[\"listed_city\"]=df[\"listed_city\"].apply(lambda x : \"B_North\" if x in Blr_north else \"B_South\" )"
   ]
  },
  {
   "cell_type": "code",
   "execution_count": 238,
   "id": "4de2a7c5",
   "metadata": {},
   "outputs": [
    {
     "name": "stdout",
     "output_type": "stream",
     "text": [
      "<class 'pandas.core.frame.DataFrame'>\n",
      "Int64Index: 45082 entries, 0 to 51716\n",
      "Data columns (total 8 columns):\n",
      " #   Column        Non-Null Count  Dtype  \n",
      "---  ------        --------------  -----  \n",
      " 0   online_order  45082 non-null  object \n",
      " 1   book_table    45082 non-null  object \n",
      " 2   rate          45082 non-null  float64\n",
      " 3   votes         45082 non-null  int64  \n",
      " 4   cuisines      45082 non-null  object \n",
      " 5   cost_for_2    45082 non-null  float64\n",
      " 6   listed_type   45082 non-null  object \n",
      " 7   listed_city   45082 non-null  object \n",
      "dtypes: float64(2), int64(1), object(5)\n",
      "memory usage: 3.1+ MB\n"
     ]
    }
   ],
   "source": [
    "df.info()"
   ]
  },
  {
   "cell_type": "code",
   "execution_count": 240,
   "id": "150c16fb",
   "metadata": {},
   "outputs": [],
   "source": [
    "x=df[[\"rate\",\"votes\"]]\n",
    "y=df[\"cost_for_2\"]"
   ]
  },
  {
   "cell_type": "code",
   "execution_count": 243,
   "id": "b01e5fa6",
   "metadata": {},
   "outputs": [
    {
     "data": {
      "text/html": [
       "<table class=\"simpletable\">\n",
       "<caption>OLS Regression Results</caption>\n",
       "<tr>\n",
       "  <th>Dep. Variable:</th>       <td>cost_for_2</td>    <th>  R-squared:         </th>  <td>   0.157</td>  \n",
       "</tr>\n",
       "<tr>\n",
       "  <th>Model:</th>                   <td>OLS</td>       <th>  Adj. R-squared:    </th>  <td>   0.157</td>  \n",
       "</tr>\n",
       "<tr>\n",
       "  <th>Method:</th>             <td>Least Squares</td>  <th>  F-statistic:       </th>  <td>   4205.</td>  \n",
       "</tr>\n",
       "<tr>\n",
       "  <th>Date:</th>             <td>Mon, 27 Nov 2023</td> <th>  Prob (F-statistic):</th>   <td>  0.00</td>   \n",
       "</tr>\n",
       "<tr>\n",
       "  <th>Time:</th>                 <td>19:44:58</td>     <th>  Log-Likelihood:    </th> <td>-3.3601e+05</td>\n",
       "</tr>\n",
       "<tr>\n",
       "  <th>No. Observations:</th>      <td> 45082</td>      <th>  AIC:               </th>  <td>6.720e+05</td> \n",
       "</tr>\n",
       "<tr>\n",
       "  <th>Df Residuals:</th>          <td> 45079</td>      <th>  BIC:               </th>  <td>6.721e+05</td> \n",
       "</tr>\n",
       "<tr>\n",
       "  <th>Df Model:</th>              <td>     2</td>      <th>                     </th>      <td> </td>     \n",
       "</tr>\n",
       "<tr>\n",
       "  <th>Covariance Type:</th>      <td>nonrobust</td>    <th>                     </th>      <td> </td>     \n",
       "</tr>\n",
       "</table>\n",
       "<table class=\"simpletable\">\n",
       "<tr>\n",
       "    <td></td>       <th>coef</th>     <th>std err</th>      <th>t</th>      <th>P>|t|</th>  <th>[0.025</th>    <th>0.975]</th>  \n",
       "</tr>\n",
       "<tr>\n",
       "  <th>const</th> <td>  326.7928</td> <td>    6.111</td> <td>   53.474</td> <td> 0.000</td> <td>  314.815</td> <td>  338.771</td>\n",
       "</tr>\n",
       "<tr>\n",
       "  <th>rate</th>  <td>   61.3416</td> <td>    1.769</td> <td>   34.669</td> <td> 0.000</td> <td>   57.874</td> <td>   64.810</td>\n",
       "</tr>\n",
       "<tr>\n",
       "  <th>votes</th> <td>    0.1741</td> <td>    0.002</td> <td>   72.521</td> <td> 0.000</td> <td>    0.169</td> <td>    0.179</td>\n",
       "</tr>\n",
       "</table>\n",
       "<table class=\"simpletable\">\n",
       "<tr>\n",
       "  <th>Omnibus:</th>       <td>26063.793</td> <th>  Durbin-Watson:     </th>  <td>   1.278</td> \n",
       "</tr>\n",
       "<tr>\n",
       "  <th>Prob(Omnibus):</th>  <td> 0.000</td>   <th>  Jarque-Bera (JB):  </th> <td>342445.939</td>\n",
       "</tr>\n",
       "<tr>\n",
       "  <th>Skew:</th>           <td> 2.544</td>   <th>  Prob(JB):          </th>  <td>    0.00</td> \n",
       "</tr>\n",
       "<tr>\n",
       "  <th>Kurtosis:</th>       <td>15.507</td>   <th>  Cond. No.          </th>  <td>2.93e+03</td> \n",
       "</tr>\n",
       "</table><br/><br/>Notes:<br/>[1] Standard Errors assume that the covariance matrix of the errors is correctly specified.<br/>[2] The condition number is large, 2.93e+03. This might indicate that there are<br/>strong multicollinearity or other numerical problems."
      ],
      "text/plain": [
       "<class 'statsmodels.iolib.summary.Summary'>\n",
       "\"\"\"\n",
       "                            OLS Regression Results                            \n",
       "==============================================================================\n",
       "Dep. Variable:             cost_for_2   R-squared:                       0.157\n",
       "Model:                            OLS   Adj. R-squared:                  0.157\n",
       "Method:                 Least Squares   F-statistic:                     4205.\n",
       "Date:                Mon, 27 Nov 2023   Prob (F-statistic):               0.00\n",
       "Time:                        19:44:58   Log-Likelihood:            -3.3601e+05\n",
       "No. Observations:               45082   AIC:                         6.720e+05\n",
       "Df Residuals:                   45079   BIC:                         6.721e+05\n",
       "Df Model:                           2                                         \n",
       "Covariance Type:            nonrobust                                         \n",
       "==============================================================================\n",
       "                 coef    std err          t      P>|t|      [0.025      0.975]\n",
       "------------------------------------------------------------------------------\n",
       "const        326.7928      6.111     53.474      0.000     314.815     338.771\n",
       "rate          61.3416      1.769     34.669      0.000      57.874      64.810\n",
       "votes          0.1741      0.002     72.521      0.000       0.169       0.179\n",
       "==============================================================================\n",
       "Omnibus:                    26063.793   Durbin-Watson:                   1.278\n",
       "Prob(Omnibus):                  0.000   Jarque-Bera (JB):           342445.939\n",
       "Skew:                           2.544   Prob(JB):                         0.00\n",
       "Kurtosis:                      15.507   Cond. No.                     2.93e+03\n",
       "==============================================================================\n",
       "\n",
       "Notes:\n",
       "[1] Standard Errors assume that the covariance matrix of the errors is correctly specified.\n",
       "[2] The condition number is large, 2.93e+03. This might indicate that there are\n",
       "strong multicollinearity or other numerical problems.\n",
       "\"\"\""
      ]
     },
     "execution_count": 243,
     "metadata": {},
     "output_type": "execute_result"
    }
   ],
   "source": [
    "check = sm.OLS(y,sm.add_constant(x)).fit()\n",
    "check.summary()"
   ]
  },
  {
   "cell_type": "code",
   "execution_count": 244,
   "id": "6e5fcdcb",
   "metadata": {},
   "outputs": [
    {
     "data": {
      "text/html": [
       "<div>\n",
       "<style scoped>\n",
       "    .dataframe tbody tr th:only-of-type {\n",
       "        vertical-align: middle;\n",
       "    }\n",
       "\n",
       "    .dataframe tbody tr th {\n",
       "        vertical-align: top;\n",
       "    }\n",
       "\n",
       "    .dataframe thead th {\n",
       "        text-align: right;\n",
       "    }\n",
       "</style>\n",
       "<table border=\"1\" class=\"dataframe\">\n",
       "  <thead>\n",
       "    <tr style=\"text-align: right;\">\n",
       "      <th></th>\n",
       "      <th>online_order</th>\n",
       "      <th>book_table</th>\n",
       "      <th>cuisines</th>\n",
       "      <th>listed_type</th>\n",
       "      <th>listed_city</th>\n",
       "    </tr>\n",
       "  </thead>\n",
       "  <tbody>\n",
       "    <tr>\n",
       "      <th>count</th>\n",
       "      <td>45082</td>\n",
       "      <td>45082</td>\n",
       "      <td>45082</td>\n",
       "      <td>45082</td>\n",
       "      <td>45082</td>\n",
       "    </tr>\n",
       "    <tr>\n",
       "      <th>unique</th>\n",
       "      <td>2</td>\n",
       "      <td>2</td>\n",
       "      <td>8</td>\n",
       "      <td>7</td>\n",
       "      <td>2</td>\n",
       "    </tr>\n",
       "    <tr>\n",
       "      <th>top</th>\n",
       "      <td>Yes</td>\n",
       "      <td>No</td>\n",
       "      <td>2</td>\n",
       "      <td>Delivery</td>\n",
       "      <td>B_South</td>\n",
       "    </tr>\n",
       "    <tr>\n",
       "      <th>freq</th>\n",
       "      <td>28439</td>\n",
       "      <td>38672</td>\n",
       "      <td>15051</td>\n",
       "      <td>22063</td>\n",
       "      <td>27145</td>\n",
       "    </tr>\n",
       "  </tbody>\n",
       "</table>\n",
       "</div>"
      ],
      "text/plain": [
       "       online_order book_table  cuisines listed_type listed_city\n",
       "count         45082      45082     45082       45082       45082\n",
       "unique            2          2         8           7           2\n",
       "top             Yes         No         2    Delivery     B_South\n",
       "freq          28439      38672     15051       22063       27145"
      ]
     },
     "execution_count": 244,
     "metadata": {},
     "output_type": "execute_result"
    }
   ],
   "source": [
    "df.select_dtypes(object).describe()"
   ]
  },
  {
   "cell_type": "code",
   "execution_count": 288,
   "id": "98d7f608",
   "metadata": {},
   "outputs": [
    {
     "data": {
      "text/plain": [
       "Index(['online_order', 'book_table', 'rate', 'votes', 'cuisines', 'cost_for_2',\n",
       "       'listed_type', 'listed_city'],\n",
       "      dtype='object')"
      ]
     },
     "execution_count": 288,
     "metadata": {},
     "output_type": "execute_result"
    }
   ],
   "source": [
    "df.columns"
   ]
  },
  {
   "cell_type": "code",
   "execution_count": 293,
   "id": "bd0ef1c2",
   "metadata": {},
   "outputs": [
    {
     "name": "stdout",
     "output_type": "stream",
     "text": [
      "                    sum_sq       df             F         PR(>F)\n",
      "online_order  4.543836e+07      1.0    409.334236   1.294980e-90\n",
      "book_table    1.863409e+09      1.0  16786.635759   0.000000e+00\n",
      "C(cuisines)   9.515661e+07      7.0    122.460579  4.417535e-179\n",
      "listed_type   5.064850e+08      6.0    760.450120   0.000000e+00\n",
      "listed_city   5.303661e+07      1.0    477.783487  2.293326e-105\n",
      "Residual      5.002464e+09  45065.0           NaN            NaN\n"
     ]
    }
   ],
   "source": [
    "model = ols(\"cost_for_2 ~ online_order + book_table + C(cuisines) + listed_type + listed_city\",data=df).fit()\n",
    "anova_table = sm.stats.anova_lm(model, typ=2)\n",
    "print(anova_table)"
   ]
  },
  {
   "cell_type": "code",
   "execution_count": null,
   "id": "de448566",
   "metadata": {},
   "outputs": [],
   "source": [
    "# since all the pvalue<0.05\n",
    "# all the categorical are related to the target variable"
   ]
  },
  {
   "cell_type": "code",
   "execution_count": 294,
   "id": "b74aaf34",
   "metadata": {},
   "outputs": [],
   "source": [
    "x=pd.get_dummies(df.drop('cost_for_2',axis=1),drop_first=True)\n",
    "y=df['cost_for_2']\n",
    "x_c=sm.add_constant(x)"
   ]
  },
  {
   "cell_type": "code",
   "execution_count": 295,
   "id": "67f434cc",
   "metadata": {},
   "outputs": [],
   "source": [
    "model=sm.OLS(y,x_c).fit()"
   ]
  },
  {
   "cell_type": "code",
   "execution_count": 296,
   "id": "06a8f6d9",
   "metadata": {},
   "outputs": [
    {
     "data": {
      "text/html": [
       "<table class=\"simpletable\">\n",
       "<caption>OLS Regression Results</caption>\n",
       "<tr>\n",
       "  <th>Dep. Variable:</th>       <td>cost_for_2</td>    <th>  R-squared:         </th>  <td>   0.481</td>  \n",
       "</tr>\n",
       "<tr>\n",
       "  <th>Model:</th>                   <td>OLS</td>       <th>  Adj. R-squared:    </th>  <td>   0.481</td>  \n",
       "</tr>\n",
       "<tr>\n",
       "  <th>Method:</th>             <td>Least Squares</td>  <th>  F-statistic:       </th>  <td>   2323.</td>  \n",
       "</tr>\n",
       "<tr>\n",
       "  <th>Date:</th>             <td>Mon, 27 Nov 2023</td> <th>  Prob (F-statistic):</th>   <td>  0.00</td>   \n",
       "</tr>\n",
       "<tr>\n",
       "  <th>Time:</th>                 <td>20:45:08</td>     <th>  Log-Likelihood:    </th> <td>-3.2507e+05</td>\n",
       "</tr>\n",
       "<tr>\n",
       "  <th>No. Observations:</th>      <td> 45082</td>      <th>  AIC:               </th>  <td>6.502e+05</td> \n",
       "</tr>\n",
       "<tr>\n",
       "  <th>Df Residuals:</th>          <td> 45063</td>      <th>  BIC:               </th>  <td>6.503e+05</td> \n",
       "</tr>\n",
       "<tr>\n",
       "  <th>Df Model:</th>              <td>    18</td>      <th>                     </th>      <td> </td>     \n",
       "</tr>\n",
       "<tr>\n",
       "  <th>Covariance Type:</th>      <td>nonrobust</td>    <th>                     </th>      <td> </td>     \n",
       "</tr>\n",
       "</table>\n",
       "<table class=\"simpletable\">\n",
       "<tr>\n",
       "                 <td></td>                   <th>coef</th>     <th>std err</th>      <th>t</th>      <th>P>|t|</th>  <th>[0.025</th>    <th>0.975]</th>  \n",
       "</tr>\n",
       "<tr>\n",
       "  <th>const</th>                          <td>  758.1381</td> <td>   12.844</td> <td>   59.028</td> <td> 0.000</td> <td>  732.964</td> <td>  783.312</td>\n",
       "</tr>\n",
       "<tr>\n",
       "  <th>rate</th>                           <td>   36.0130</td> <td>    1.437</td> <td>   25.061</td> <td> 0.000</td> <td>   33.196</td> <td>   38.829</td>\n",
       "</tr>\n",
       "<tr>\n",
       "  <th>votes</th>                          <td>    0.0513</td> <td>    0.002</td> <td>   25.032</td> <td> 0.000</td> <td>    0.047</td> <td>    0.055</td>\n",
       "</tr>\n",
       "<tr>\n",
       "  <th>online_order_Yes</th>               <td>  -90.5386</td> <td>    3.472</td> <td>  -26.074</td> <td> 0.000</td> <td>  -97.345</td> <td>  -83.733</td>\n",
       "</tr>\n",
       "<tr>\n",
       "  <th>book_table_Yes</th>                 <td>  573.9684</td> <td>    5.171</td> <td>  111.006</td> <td> 0.000</td> <td>  563.834</td> <td>  584.103</td>\n",
       "</tr>\n",
       "<tr>\n",
       "  <th>cuisines_2</th>                     <td>   14.5253</td> <td>    4.243</td> <td>    3.423</td> <td> 0.001</td> <td>    6.208</td> <td>   22.842</td>\n",
       "</tr>\n",
       "<tr>\n",
       "  <th>cuisines_3</th>                     <td>   79.0137</td> <td>    4.561</td> <td>   17.325</td> <td> 0.000</td> <td>   70.075</td> <td>   87.953</td>\n",
       "</tr>\n",
       "<tr>\n",
       "  <th>cuisines_4</th>                     <td>   87.7959</td> <td>    5.560</td> <td>   15.791</td> <td> 0.000</td> <td>   76.899</td> <td>   98.693</td>\n",
       "</tr>\n",
       "<tr>\n",
       "  <th>cuisines_5</th>                     <td>   94.4314</td> <td>    8.208</td> <td>   11.505</td> <td> 0.000</td> <td>   78.343</td> <td>  110.519</td>\n",
       "</tr>\n",
       "<tr>\n",
       "  <th>cuisines_6</th>                     <td>  159.7137</td> <td>   13.184</td> <td>   12.114</td> <td> 0.000</td> <td>  133.873</td> <td>  185.554</td>\n",
       "</tr>\n",
       "<tr>\n",
       "  <th>cuisines_7</th>                     <td>  149.5104</td> <td>   17.542</td> <td>    8.523</td> <td> 0.000</td> <td>  115.127</td> <td>  183.894</td>\n",
       "</tr>\n",
       "<tr>\n",
       "  <th>cuisines_8</th>                     <td>   52.4179</td> <td>   24.178</td> <td>    2.168</td> <td> 0.030</td> <td>    5.029</td> <td>   99.807</td>\n",
       "</tr>\n",
       "<tr>\n",
       "  <th>listed_type_Cafes</th>              <td> -341.5152</td> <td>   13.879</td> <td>  -24.607</td> <td> 0.000</td> <td> -368.717</td> <td> -314.313</td>\n",
       "</tr>\n",
       "<tr>\n",
       "  <th>listed_type_Delivery</th>           <td> -378.4352</td> <td>   11.748</td> <td>  -32.214</td> <td> 0.000</td> <td> -401.461</td> <td> -355.410</td>\n",
       "</tr>\n",
       "<tr>\n",
       "  <th>listed_type_Desserts</th>           <td> -446.7150</td> <td>   12.881</td> <td>  -34.679</td> <td> 0.000</td> <td> -471.963</td> <td> -421.467</td>\n",
       "</tr>\n",
       "<tr>\n",
       "  <th>listed_type_Dine-out</th>           <td> -307.7178</td> <td>   11.682</td> <td>  -26.342</td> <td> 0.000</td> <td> -330.614</td> <td> -284.822</td>\n",
       "</tr>\n",
       "<tr>\n",
       "  <th>listed_type_Drinks & nightlife</th> <td>  138.6468</td> <td>   14.973</td> <td>    9.260</td> <td> 0.000</td> <td>  109.300</td> <td>  167.994</td>\n",
       "</tr>\n",
       "<tr>\n",
       "  <th>listed_type_Pubs and bars</th>      <td>   49.7346</td> <td>   16.789</td> <td>    2.962</td> <td> 0.003</td> <td>   16.827</td> <td>   82.642</td>\n",
       "</tr>\n",
       "<tr>\n",
       "  <th>listed_city_B_South</th>            <td>  -71.3286</td> <td>    3.169</td> <td>  -22.505</td> <td> 0.000</td> <td>  -77.541</td> <td>  -65.116</td>\n",
       "</tr>\n",
       "</table>\n",
       "<table class=\"simpletable\">\n",
       "<tr>\n",
       "  <th>Omnibus:</th>       <td>26892.243</td> <th>  Durbin-Watson:     </th>  <td>   1.614</td> \n",
       "</tr>\n",
       "<tr>\n",
       "  <th>Prob(Omnibus):</th>  <td> 0.000</td>   <th>  Jarque-Bera (JB):  </th> <td>465085.963</td>\n",
       "</tr>\n",
       "<tr>\n",
       "  <th>Skew:</th>           <td> 2.550</td>   <th>  Prob(JB):          </th>  <td>    0.00</td> \n",
       "</tr>\n",
       "<tr>\n",
       "  <th>Kurtosis:</th>       <td>17.886</td>   <th>  Cond. No.          </th>  <td>1.82e+04</td> \n",
       "</tr>\n",
       "</table><br/><br/>Notes:<br/>[1] Standard Errors assume that the covariance matrix of the errors is correctly specified.<br/>[2] The condition number is large, 1.82e+04. This might indicate that there are<br/>strong multicollinearity or other numerical problems."
      ],
      "text/plain": [
       "<class 'statsmodels.iolib.summary.Summary'>\n",
       "\"\"\"\n",
       "                            OLS Regression Results                            \n",
       "==============================================================================\n",
       "Dep. Variable:             cost_for_2   R-squared:                       0.481\n",
       "Model:                            OLS   Adj. R-squared:                  0.481\n",
       "Method:                 Least Squares   F-statistic:                     2323.\n",
       "Date:                Mon, 27 Nov 2023   Prob (F-statistic):               0.00\n",
       "Time:                        20:45:08   Log-Likelihood:            -3.2507e+05\n",
       "No. Observations:               45082   AIC:                         6.502e+05\n",
       "Df Residuals:                   45063   BIC:                         6.503e+05\n",
       "Df Model:                          18                                         \n",
       "Covariance Type:            nonrobust                                         \n",
       "==================================================================================================\n",
       "                                     coef    std err          t      P>|t|      [0.025      0.975]\n",
       "--------------------------------------------------------------------------------------------------\n",
       "const                            758.1381     12.844     59.028      0.000     732.964     783.312\n",
       "rate                              36.0130      1.437     25.061      0.000      33.196      38.829\n",
       "votes                              0.0513      0.002     25.032      0.000       0.047       0.055\n",
       "online_order_Yes                 -90.5386      3.472    -26.074      0.000     -97.345     -83.733\n",
       "book_table_Yes                   573.9684      5.171    111.006      0.000     563.834     584.103\n",
       "cuisines_2                        14.5253      4.243      3.423      0.001       6.208      22.842\n",
       "cuisines_3                        79.0137      4.561     17.325      0.000      70.075      87.953\n",
       "cuisines_4                        87.7959      5.560     15.791      0.000      76.899      98.693\n",
       "cuisines_5                        94.4314      8.208     11.505      0.000      78.343     110.519\n",
       "cuisines_6                       159.7137     13.184     12.114      0.000     133.873     185.554\n",
       "cuisines_7                       149.5104     17.542      8.523      0.000     115.127     183.894\n",
       "cuisines_8                        52.4179     24.178      2.168      0.030       5.029      99.807\n",
       "listed_type_Cafes               -341.5152     13.879    -24.607      0.000    -368.717    -314.313\n",
       "listed_type_Delivery            -378.4352     11.748    -32.214      0.000    -401.461    -355.410\n",
       "listed_type_Desserts            -446.7150     12.881    -34.679      0.000    -471.963    -421.467\n",
       "listed_type_Dine-out            -307.7178     11.682    -26.342      0.000    -330.614    -284.822\n",
       "listed_type_Drinks & nightlife   138.6468     14.973      9.260      0.000     109.300     167.994\n",
       "listed_type_Pubs and bars         49.7346     16.789      2.962      0.003      16.827      82.642\n",
       "listed_city_B_South              -71.3286      3.169    -22.505      0.000     -77.541     -65.116\n",
       "==============================================================================\n",
       "Omnibus:                    26892.243   Durbin-Watson:                   1.614\n",
       "Prob(Omnibus):                  0.000   Jarque-Bera (JB):           465085.963\n",
       "Skew:                           2.550   Prob(JB):                         0.00\n",
       "Kurtosis:                      17.886   Cond. No.                     1.82e+04\n",
       "==============================================================================\n",
       "\n",
       "Notes:\n",
       "[1] Standard Errors assume that the covariance matrix of the errors is correctly specified.\n",
       "[2] The condition number is large, 1.82e+04. This might indicate that there are\n",
       "strong multicollinearity or other numerical problems.\n",
       "\"\"\""
      ]
     },
     "execution_count": 296,
     "metadata": {},
     "output_type": "execute_result"
    }
   ],
   "source": [
    "model.summary()"
   ]
  },
  {
   "cell_type": "code",
   "execution_count": 300,
   "id": "14391b09",
   "metadata": {},
   "outputs": [],
   "source": [
    "from sklearn.linear_model import LinearRegression"
   ]
  },
  {
   "cell_type": "code",
   "execution_count": 301,
   "id": "d6e5a71a",
   "metadata": {},
   "outputs": [],
   "source": [
    "from mlxtend.feature_selection import SequentialFeatureSelector as sfs"
   ]
  },
  {
   "cell_type": "code",
   "execution_count": 302,
   "id": "7fb22390",
   "metadata": {},
   "outputs": [],
   "source": [
    "lr=LinearRegression()\n",
    "sfs_forward=sfs(estimator=lr,k_features=\"best\",forward=True,verbose=2,scoring=\"neg_root_mean_squared_error\")"
   ]
  },
  {
   "cell_type": "code",
   "execution_count": 303,
   "id": "d64ea7ef",
   "metadata": {},
   "outputs": [
    {
     "name": "stderr",
     "output_type": "stream",
     "text": [
      "[Parallel(n_jobs=1)]: Using backend SequentialBackend with 1 concurrent workers.\n",
      "[Parallel(n_jobs=1)]: Done   1 out of   1 | elapsed:    0.0s remaining:    0.0s\n",
      "[Parallel(n_jobs=1)]: Done  18 out of  18 | elapsed:    0.2s finished\n",
      "\n",
      "[2023-11-27 20:47:37] Features: 1/18 -- score: -358.16592812881754[Parallel(n_jobs=1)]: Using backend SequentialBackend with 1 concurrent workers.\n",
      "[Parallel(n_jobs=1)]: Done   1 out of   1 | elapsed:    0.0s remaining:    0.0s\n",
      "[Parallel(n_jobs=1)]: Done  17 out of  17 | elapsed:    0.6s finished\n",
      "\n",
      "[2023-11-27 20:47:38] Features: 2/18 -- score: -349.5719053676197[Parallel(n_jobs=1)]: Using backend SequentialBackend with 1 concurrent workers.\n",
      "[Parallel(n_jobs=1)]: Done   1 out of   1 | elapsed:    0.0s remaining:    0.0s\n",
      "[Parallel(n_jobs=1)]: Done  16 out of  16 | elapsed:    0.6s finished\n",
      "\n",
      "[2023-11-27 20:47:39] Features: 3/18 -- score: -344.95781793575463[Parallel(n_jobs=1)]: Using backend SequentialBackend with 1 concurrent workers.\n",
      "[Parallel(n_jobs=1)]: Done   1 out of   1 | elapsed:    0.0s remaining:    0.0s\n",
      "[Parallel(n_jobs=1)]: Done  15 out of  15 | elapsed:    0.6s finished\n",
      "\n",
      "[2023-11-27 20:47:39] Features: 4/18 -- score: -340.9535126564458[Parallel(n_jobs=1)]: Using backend SequentialBackend with 1 concurrent workers.\n",
      "[Parallel(n_jobs=1)]: Done   1 out of   1 | elapsed:    0.0s remaining:    0.0s\n",
      "[Parallel(n_jobs=1)]: Done  14 out of  14 | elapsed:    0.7s finished\n",
      "\n",
      "[2023-11-27 20:47:40] Features: 5/18 -- score: -338.5000347850605[Parallel(n_jobs=1)]: Using backend SequentialBackend with 1 concurrent workers.\n",
      "[Parallel(n_jobs=1)]: Done   1 out of   1 | elapsed:    0.0s remaining:    0.0s\n",
      "[Parallel(n_jobs=1)]: Done  13 out of  13 | elapsed:    0.9s finished\n",
      "\n",
      "[2023-11-27 20:47:41] Features: 6/18 -- score: -336.0812087935221[Parallel(n_jobs=1)]: Using backend SequentialBackend with 1 concurrent workers.\n",
      "[Parallel(n_jobs=1)]: Done   1 out of   1 | elapsed:    0.0s remaining:    0.0s\n",
      "[Parallel(n_jobs=1)]: Done  12 out of  12 | elapsed:    0.8s finished\n",
      "\n",
      "[2023-11-27 20:47:42] Features: 7/18 -- score: -333.93941125589015[Parallel(n_jobs=1)]: Using backend SequentialBackend with 1 concurrent workers.\n",
      "[Parallel(n_jobs=1)]: Done   1 out of   1 | elapsed:    0.0s remaining:    0.0s\n",
      "[Parallel(n_jobs=1)]: Done  11 out of  11 | elapsed:    0.8s finished\n",
      "\n",
      "[2023-11-27 20:47:43] Features: 8/18 -- score: -332.6325052559215[Parallel(n_jobs=1)]: Using backend SequentialBackend with 1 concurrent workers.\n",
      "[Parallel(n_jobs=1)]: Done   1 out of   1 | elapsed:    0.0s remaining:    0.0s\n",
      "[Parallel(n_jobs=1)]: Done  10 out of  10 | elapsed:    0.9s finished\n",
      "\n",
      "[2023-11-27 20:47:44] Features: 9/18 -- score: -330.5755508539293[Parallel(n_jobs=1)]: Using backend SequentialBackend with 1 concurrent workers.\n",
      "[Parallel(n_jobs=1)]: Done   1 out of   1 | elapsed:    0.0s remaining:    0.0s\n",
      "[Parallel(n_jobs=1)]: Done   9 out of   9 | elapsed:    0.7s finished\n",
      "\n",
      "[2023-11-27 20:47:45] Features: 10/18 -- score: -329.9173613178373[Parallel(n_jobs=1)]: Using backend SequentialBackend with 1 concurrent workers.\n",
      "[Parallel(n_jobs=1)]: Done   1 out of   1 | elapsed:    0.0s remaining:    0.0s\n",
      "[Parallel(n_jobs=1)]: Done   8 out of   8 | elapsed:    0.7s finished\n",
      "\n",
      "[2023-11-27 20:47:45] Features: 11/18 -- score: -329.2809702957394[Parallel(n_jobs=1)]: Using backend SequentialBackend with 1 concurrent workers.\n",
      "[Parallel(n_jobs=1)]: Done   1 out of   1 | elapsed:    0.0s remaining:    0.0s\n",
      "[Parallel(n_jobs=1)]: Done   7 out of   7 | elapsed:    0.6s finished\n",
      "\n",
      "[2023-11-27 20:47:46] Features: 12/18 -- score: -328.7865318686213[Parallel(n_jobs=1)]: Using backend SequentialBackend with 1 concurrent workers.\n",
      "[Parallel(n_jobs=1)]: Done   1 out of   1 | elapsed:    0.0s remaining:    0.0s\n",
      "[Parallel(n_jobs=1)]: Done   6 out of   6 | elapsed:    0.5s finished\n",
      "\n",
      "[2023-11-27 20:47:47] Features: 13/18 -- score: -326.70556500618477[Parallel(n_jobs=1)]: Using backend SequentialBackend with 1 concurrent workers.\n",
      "[Parallel(n_jobs=1)]: Done   1 out of   1 | elapsed:    0.0s remaining:    0.0s\n",
      "[Parallel(n_jobs=1)]: Done   5 out of   5 | elapsed:    0.6s finished\n",
      "\n",
      "[2023-11-27 20:47:47] Features: 14/18 -- score: -326.2685825195048[Parallel(n_jobs=1)]: Using backend SequentialBackend with 1 concurrent workers.\n",
      "[Parallel(n_jobs=1)]: Done   1 out of   1 | elapsed:    0.0s remaining:    0.0s\n",
      "[Parallel(n_jobs=1)]: Done   4 out of   4 | elapsed:    0.4s finished\n",
      "\n",
      "[2023-11-27 20:47:48] Features: 15/18 -- score: -325.8797950522084[Parallel(n_jobs=1)]: Using backend SequentialBackend with 1 concurrent workers.\n",
      "[Parallel(n_jobs=1)]: Done   1 out of   1 | elapsed:    0.0s remaining:    0.0s\n",
      "[Parallel(n_jobs=1)]: Done   3 out of   3 | elapsed:    0.4s finished\n",
      "\n",
      "[2023-11-27 20:47:48] Features: 16/18 -- score: -325.64996652550803[Parallel(n_jobs=1)]: Using backend SequentialBackend with 1 concurrent workers.\n",
      "[Parallel(n_jobs=1)]: Done   1 out of   1 | elapsed:    0.0s remaining:    0.0s\n",
      "[Parallel(n_jobs=1)]: Done   2 out of   2 | elapsed:    0.2s finished\n",
      "\n",
      "[2023-11-27 20:47:49] Features: 17/18 -- score: -325.6186837646302[Parallel(n_jobs=1)]: Using backend SequentialBackend with 1 concurrent workers.\n",
      "[Parallel(n_jobs=1)]: Done   1 out of   1 | elapsed:    0.1s remaining:    0.0s\n",
      "[Parallel(n_jobs=1)]: Done   1 out of   1 | elapsed:    0.1s finished\n",
      "\n",
      "[2023-11-27 20:47:49] Features: 18/18 -- score: -325.6021188779313"
     ]
    },
    {
     "data": {
      "text/html": [
       "<style>#sk-container-id-1 {color: black;background-color: white;}#sk-container-id-1 pre{padding: 0;}#sk-container-id-1 div.sk-toggleable {background-color: white;}#sk-container-id-1 label.sk-toggleable__label {cursor: pointer;display: block;width: 100%;margin-bottom: 0;padding: 0.3em;box-sizing: border-box;text-align: center;}#sk-container-id-1 label.sk-toggleable__label-arrow:before {content: \"▸\";float: left;margin-right: 0.25em;color: #696969;}#sk-container-id-1 label.sk-toggleable__label-arrow:hover:before {color: black;}#sk-container-id-1 div.sk-estimator:hover label.sk-toggleable__label-arrow:before {color: black;}#sk-container-id-1 div.sk-toggleable__content {max-height: 0;max-width: 0;overflow: hidden;text-align: left;background-color: #f0f8ff;}#sk-container-id-1 div.sk-toggleable__content pre {margin: 0.2em;color: black;border-radius: 0.25em;background-color: #f0f8ff;}#sk-container-id-1 input.sk-toggleable__control:checked~div.sk-toggleable__content {max-height: 200px;max-width: 100%;overflow: auto;}#sk-container-id-1 input.sk-toggleable__control:checked~label.sk-toggleable__label-arrow:before {content: \"▾\";}#sk-container-id-1 div.sk-estimator input.sk-toggleable__control:checked~label.sk-toggleable__label {background-color: #d4ebff;}#sk-container-id-1 div.sk-label input.sk-toggleable__control:checked~label.sk-toggleable__label {background-color: #d4ebff;}#sk-container-id-1 input.sk-hidden--visually {border: 0;clip: rect(1px 1px 1px 1px);clip: rect(1px, 1px, 1px, 1px);height: 1px;margin: -1px;overflow: hidden;padding: 0;position: absolute;width: 1px;}#sk-container-id-1 div.sk-estimator {font-family: monospace;background-color: #f0f8ff;border: 1px dotted black;border-radius: 0.25em;box-sizing: border-box;margin-bottom: 0.5em;}#sk-container-id-1 div.sk-estimator:hover {background-color: #d4ebff;}#sk-container-id-1 div.sk-parallel-item::after {content: \"\";width: 100%;border-bottom: 1px solid gray;flex-grow: 1;}#sk-container-id-1 div.sk-label:hover label.sk-toggleable__label {background-color: #d4ebff;}#sk-container-id-1 div.sk-serial::before {content: \"\";position: absolute;border-left: 1px solid gray;box-sizing: border-box;top: 0;bottom: 0;left: 50%;z-index: 0;}#sk-container-id-1 div.sk-serial {display: flex;flex-direction: column;align-items: center;background-color: white;padding-right: 0.2em;padding-left: 0.2em;position: relative;}#sk-container-id-1 div.sk-item {position: relative;z-index: 1;}#sk-container-id-1 div.sk-parallel {display: flex;align-items: stretch;justify-content: center;background-color: white;position: relative;}#sk-container-id-1 div.sk-item::before, #sk-container-id-1 div.sk-parallel-item::before {content: \"\";position: absolute;border-left: 1px solid gray;box-sizing: border-box;top: 0;bottom: 0;left: 50%;z-index: -1;}#sk-container-id-1 div.sk-parallel-item {display: flex;flex-direction: column;z-index: 1;position: relative;background-color: white;}#sk-container-id-1 div.sk-parallel-item:first-child::after {align-self: flex-end;width: 50%;}#sk-container-id-1 div.sk-parallel-item:last-child::after {align-self: flex-start;width: 50%;}#sk-container-id-1 div.sk-parallel-item:only-child::after {width: 0;}#sk-container-id-1 div.sk-dashed-wrapped {border: 1px dashed gray;margin: 0 0.4em 0.5em 0.4em;box-sizing: border-box;padding-bottom: 0.4em;background-color: white;}#sk-container-id-1 div.sk-label label {font-family: monospace;font-weight: bold;display: inline-block;line-height: 1.2em;}#sk-container-id-1 div.sk-label-container {text-align: center;}#sk-container-id-1 div.sk-container {/* jupyter's `normalize.less` sets `[hidden] { display: none; }` but bootstrap.min.css set `[hidden] { display: none !important; }` so we also need the `!important` here to be able to override the default hidden behavior on the sphinx rendered scikit-learn.org. See: https://github.com/scikit-learn/scikit-learn/issues/21755 */display: inline-block !important;position: relative;}#sk-container-id-1 div.sk-text-repr-fallback {display: none;}</style><div id=\"sk-container-id-1\" class=\"sk-top-container\"><div class=\"sk-text-repr-fallback\"><pre>SequentialFeatureSelector(estimator=LinearRegression(), k_features=(1, 18),\n",
       "                          scoring=&#x27;neg_root_mean_squared_error&#x27;, verbose=2)</pre><b>In a Jupyter environment, please rerun this cell to show the HTML representation or trust the notebook. <br />On GitHub, the HTML representation is unable to render, please try loading this page with nbviewer.org.</b></div><div class=\"sk-container\" hidden><div class=\"sk-item sk-dashed-wrapped\"><div class=\"sk-label-container\"><div class=\"sk-label sk-toggleable\"><input class=\"sk-toggleable__control sk-hidden--visually\" id=\"sk-estimator-id-1\" type=\"checkbox\" ><label for=\"sk-estimator-id-1\" class=\"sk-toggleable__label sk-toggleable__label-arrow\">SequentialFeatureSelector</label><div class=\"sk-toggleable__content\"><pre>SequentialFeatureSelector(estimator=LinearRegression(), k_features=(1, 18),\n",
       "                          scoring=&#x27;neg_root_mean_squared_error&#x27;, verbose=2)</pre></div></div></div><div class=\"sk-parallel\"><div class=\"sk-parallel-item\"><div class=\"sk-item\"><div class=\"sk-label-container\"><div class=\"sk-label sk-toggleable\"><input class=\"sk-toggleable__control sk-hidden--visually\" id=\"sk-estimator-id-2\" type=\"checkbox\" ><label for=\"sk-estimator-id-2\" class=\"sk-toggleable__label sk-toggleable__label-arrow\">estimator: LinearRegression</label><div class=\"sk-toggleable__content\"><pre>LinearRegression()</pre></div></div></div><div class=\"sk-serial\"><div class=\"sk-item\"><div class=\"sk-estimator sk-toggleable\"><input class=\"sk-toggleable__control sk-hidden--visually\" id=\"sk-estimator-id-3\" type=\"checkbox\" ><label for=\"sk-estimator-id-3\" class=\"sk-toggleable__label sk-toggleable__label-arrow\">LinearRegression</label><div class=\"sk-toggleable__content\"><pre>LinearRegression()</pre></div></div></div></div></div></div></div></div></div></div>"
      ],
      "text/plain": [
       "SequentialFeatureSelector(estimator=LinearRegression(), k_features=(1, 18),\n",
       "                          scoring='neg_root_mean_squared_error', verbose=2)"
      ]
     },
     "execution_count": 303,
     "metadata": {},
     "output_type": "execute_result"
    }
   ],
   "source": [
    "sfs_forward.fit(x,y)"
   ]
  },
  {
   "cell_type": "code",
   "execution_count": 304,
   "id": "56bc5794",
   "metadata": {},
   "outputs": [
    {
     "data": {
      "text/plain": [
       "('rate',\n",
       " 'votes',\n",
       " 'online_order_Yes',\n",
       " 'book_table_Yes',\n",
       " 'cuisines_2',\n",
       " 'cuisines_3',\n",
       " 'cuisines_4',\n",
       " 'cuisines_5',\n",
       " 'cuisines_6',\n",
       " 'cuisines_7',\n",
       " 'cuisines_8',\n",
       " 'listed_type_Cafes',\n",
       " 'listed_type_Delivery',\n",
       " 'listed_type_Desserts',\n",
       " 'listed_type_Dine-out',\n",
       " 'listed_type_Drinks & nightlife',\n",
       " 'listed_type_Pubs and bars',\n",
       " 'listed_city_B_South')"
      ]
     },
     "execution_count": 304,
     "metadata": {},
     "output_type": "execute_result"
    }
   ],
   "source": [
    "sfs_forward.k_feature_names_"
   ]
  },
  {
   "cell_type": "code",
   "execution_count": 341,
   "id": "6db83b1f",
   "metadata": {},
   "outputs": [],
   "source": [
    "x=x[['rate','votes','online_order_Yes','book_table_Yes','cuisines_2','cuisines_3','cuisines_4','cuisines_5','cuisines_6','cuisines_7','cuisines_8','listed_type_Cafes','listed_type_Delivery',\n",
    " 'listed_type_Desserts','listed_type_Dine-out','listed_type_Drinks & nightlife','listed_type_Pubs and bars','listed_city_B_South']]\n",
    "y=df['cost_for_2']"
   ]
  },
  {
   "cell_type": "code",
   "execution_count": 342,
   "id": "099c937d",
   "metadata": {
    "scrolled": true
   },
   "outputs": [
    {
     "data": {
      "text/html": [
       "<table class=\"simpletable\">\n",
       "<caption>OLS Regression Results</caption>\n",
       "<tr>\n",
       "  <th>Dep. Variable:</th>       <td>cost_for_2</td>    <th>  R-squared:         </th>  <td>   0.481</td>  \n",
       "</tr>\n",
       "<tr>\n",
       "  <th>Model:</th>                   <td>OLS</td>       <th>  Adj. R-squared:    </th>  <td>   0.481</td>  \n",
       "</tr>\n",
       "<tr>\n",
       "  <th>Method:</th>             <td>Least Squares</td>  <th>  F-statistic:       </th>  <td>   2323.</td>  \n",
       "</tr>\n",
       "<tr>\n",
       "  <th>Date:</th>             <td>Mon, 27 Nov 2023</td> <th>  Prob (F-statistic):</th>   <td>  0.00</td>   \n",
       "</tr>\n",
       "<tr>\n",
       "  <th>Time:</th>                 <td>21:18:19</td>     <th>  Log-Likelihood:    </th> <td>-3.2507e+05</td>\n",
       "</tr>\n",
       "<tr>\n",
       "  <th>No. Observations:</th>      <td> 45082</td>      <th>  AIC:               </th>  <td>6.502e+05</td> \n",
       "</tr>\n",
       "<tr>\n",
       "  <th>Df Residuals:</th>          <td> 45063</td>      <th>  BIC:               </th>  <td>6.503e+05</td> \n",
       "</tr>\n",
       "<tr>\n",
       "  <th>Df Model:</th>              <td>    18</td>      <th>                     </th>      <td> </td>     \n",
       "</tr>\n",
       "<tr>\n",
       "  <th>Covariance Type:</th>      <td>nonrobust</td>    <th>                     </th>      <td> </td>     \n",
       "</tr>\n",
       "</table>\n",
       "<table class=\"simpletable\">\n",
       "<tr>\n",
       "                 <td></td>                   <th>coef</th>     <th>std err</th>      <th>t</th>      <th>P>|t|</th>  <th>[0.025</th>    <th>0.975]</th>  \n",
       "</tr>\n",
       "<tr>\n",
       "  <th>const</th>                          <td>  758.1381</td> <td>   12.844</td> <td>   59.028</td> <td> 0.000</td> <td>  732.964</td> <td>  783.312</td>\n",
       "</tr>\n",
       "<tr>\n",
       "  <th>rate</th>                           <td>   36.0130</td> <td>    1.437</td> <td>   25.061</td> <td> 0.000</td> <td>   33.196</td> <td>   38.829</td>\n",
       "</tr>\n",
       "<tr>\n",
       "  <th>votes</th>                          <td>    0.0513</td> <td>    0.002</td> <td>   25.032</td> <td> 0.000</td> <td>    0.047</td> <td>    0.055</td>\n",
       "</tr>\n",
       "<tr>\n",
       "  <th>online_order_Yes</th>               <td>  -90.5386</td> <td>    3.472</td> <td>  -26.074</td> <td> 0.000</td> <td>  -97.345</td> <td>  -83.733</td>\n",
       "</tr>\n",
       "<tr>\n",
       "  <th>book_table_Yes</th>                 <td>  573.9684</td> <td>    5.171</td> <td>  111.006</td> <td> 0.000</td> <td>  563.834</td> <td>  584.103</td>\n",
       "</tr>\n",
       "<tr>\n",
       "  <th>cuisines_2</th>                     <td>   14.5253</td> <td>    4.243</td> <td>    3.423</td> <td> 0.001</td> <td>    6.208</td> <td>   22.842</td>\n",
       "</tr>\n",
       "<tr>\n",
       "  <th>cuisines_3</th>                     <td>   79.0137</td> <td>    4.561</td> <td>   17.325</td> <td> 0.000</td> <td>   70.075</td> <td>   87.953</td>\n",
       "</tr>\n",
       "<tr>\n",
       "  <th>cuisines_4</th>                     <td>   87.7959</td> <td>    5.560</td> <td>   15.791</td> <td> 0.000</td> <td>   76.899</td> <td>   98.693</td>\n",
       "</tr>\n",
       "<tr>\n",
       "  <th>cuisines_5</th>                     <td>   94.4314</td> <td>    8.208</td> <td>   11.505</td> <td> 0.000</td> <td>   78.343</td> <td>  110.519</td>\n",
       "</tr>\n",
       "<tr>\n",
       "  <th>cuisines_6</th>                     <td>  159.7137</td> <td>   13.184</td> <td>   12.114</td> <td> 0.000</td> <td>  133.873</td> <td>  185.554</td>\n",
       "</tr>\n",
       "<tr>\n",
       "  <th>cuisines_7</th>                     <td>  149.5104</td> <td>   17.542</td> <td>    8.523</td> <td> 0.000</td> <td>  115.127</td> <td>  183.894</td>\n",
       "</tr>\n",
       "<tr>\n",
       "  <th>cuisines_8</th>                     <td>   52.4179</td> <td>   24.178</td> <td>    2.168</td> <td> 0.030</td> <td>    5.029</td> <td>   99.807</td>\n",
       "</tr>\n",
       "<tr>\n",
       "  <th>listed_type_Cafes</th>              <td> -341.5152</td> <td>   13.879</td> <td>  -24.607</td> <td> 0.000</td> <td> -368.717</td> <td> -314.313</td>\n",
       "</tr>\n",
       "<tr>\n",
       "  <th>listed_type_Delivery</th>           <td> -378.4352</td> <td>   11.748</td> <td>  -32.214</td> <td> 0.000</td> <td> -401.461</td> <td> -355.410</td>\n",
       "</tr>\n",
       "<tr>\n",
       "  <th>listed_type_Desserts</th>           <td> -446.7150</td> <td>   12.881</td> <td>  -34.679</td> <td> 0.000</td> <td> -471.963</td> <td> -421.467</td>\n",
       "</tr>\n",
       "<tr>\n",
       "  <th>listed_type_Dine-out</th>           <td> -307.7178</td> <td>   11.682</td> <td>  -26.342</td> <td> 0.000</td> <td> -330.614</td> <td> -284.822</td>\n",
       "</tr>\n",
       "<tr>\n",
       "  <th>listed_type_Drinks & nightlife</th> <td>  138.6468</td> <td>   14.973</td> <td>    9.260</td> <td> 0.000</td> <td>  109.300</td> <td>  167.994</td>\n",
       "</tr>\n",
       "<tr>\n",
       "  <th>listed_type_Pubs and bars</th>      <td>   49.7346</td> <td>   16.789</td> <td>    2.962</td> <td> 0.003</td> <td>   16.827</td> <td>   82.642</td>\n",
       "</tr>\n",
       "<tr>\n",
       "  <th>listed_city_B_South</th>            <td>  -71.3286</td> <td>    3.169</td> <td>  -22.505</td> <td> 0.000</td> <td>  -77.541</td> <td>  -65.116</td>\n",
       "</tr>\n",
       "</table>\n",
       "<table class=\"simpletable\">\n",
       "<tr>\n",
       "  <th>Omnibus:</th>       <td>26892.243</td> <th>  Durbin-Watson:     </th>  <td>   1.614</td> \n",
       "</tr>\n",
       "<tr>\n",
       "  <th>Prob(Omnibus):</th>  <td> 0.000</td>   <th>  Jarque-Bera (JB):  </th> <td>465085.963</td>\n",
       "</tr>\n",
       "<tr>\n",
       "  <th>Skew:</th>           <td> 2.550</td>   <th>  Prob(JB):          </th>  <td>    0.00</td> \n",
       "</tr>\n",
       "<tr>\n",
       "  <th>Kurtosis:</th>       <td>17.886</td>   <th>  Cond. No.          </th>  <td>1.82e+04</td> \n",
       "</tr>\n",
       "</table><br/><br/>Notes:<br/>[1] Standard Errors assume that the covariance matrix of the errors is correctly specified.<br/>[2] The condition number is large, 1.82e+04. This might indicate that there are<br/>strong multicollinearity or other numerical problems."
      ],
      "text/plain": [
       "<class 'statsmodels.iolib.summary.Summary'>\n",
       "\"\"\"\n",
       "                            OLS Regression Results                            \n",
       "==============================================================================\n",
       "Dep. Variable:             cost_for_2   R-squared:                       0.481\n",
       "Model:                            OLS   Adj. R-squared:                  0.481\n",
       "Method:                 Least Squares   F-statistic:                     2323.\n",
       "Date:                Mon, 27 Nov 2023   Prob (F-statistic):               0.00\n",
       "Time:                        21:18:19   Log-Likelihood:            -3.2507e+05\n",
       "No. Observations:               45082   AIC:                         6.502e+05\n",
       "Df Residuals:                   45063   BIC:                         6.503e+05\n",
       "Df Model:                          18                                         \n",
       "Covariance Type:            nonrobust                                         \n",
       "==================================================================================================\n",
       "                                     coef    std err          t      P>|t|      [0.025      0.975]\n",
       "--------------------------------------------------------------------------------------------------\n",
       "const                            758.1381     12.844     59.028      0.000     732.964     783.312\n",
       "rate                              36.0130      1.437     25.061      0.000      33.196      38.829\n",
       "votes                              0.0513      0.002     25.032      0.000       0.047       0.055\n",
       "online_order_Yes                 -90.5386      3.472    -26.074      0.000     -97.345     -83.733\n",
       "book_table_Yes                   573.9684      5.171    111.006      0.000     563.834     584.103\n",
       "cuisines_2                        14.5253      4.243      3.423      0.001       6.208      22.842\n",
       "cuisines_3                        79.0137      4.561     17.325      0.000      70.075      87.953\n",
       "cuisines_4                        87.7959      5.560     15.791      0.000      76.899      98.693\n",
       "cuisines_5                        94.4314      8.208     11.505      0.000      78.343     110.519\n",
       "cuisines_6                       159.7137     13.184     12.114      0.000     133.873     185.554\n",
       "cuisines_7                       149.5104     17.542      8.523      0.000     115.127     183.894\n",
       "cuisines_8                        52.4179     24.178      2.168      0.030       5.029      99.807\n",
       "listed_type_Cafes               -341.5152     13.879    -24.607      0.000    -368.717    -314.313\n",
       "listed_type_Delivery            -378.4352     11.748    -32.214      0.000    -401.461    -355.410\n",
       "listed_type_Desserts            -446.7150     12.881    -34.679      0.000    -471.963    -421.467\n",
       "listed_type_Dine-out            -307.7178     11.682    -26.342      0.000    -330.614    -284.822\n",
       "listed_type_Drinks & nightlife   138.6468     14.973      9.260      0.000     109.300     167.994\n",
       "listed_type_Pubs and bars         49.7346     16.789      2.962      0.003      16.827      82.642\n",
       "listed_city_B_South              -71.3286      3.169    -22.505      0.000     -77.541     -65.116\n",
       "==============================================================================\n",
       "Omnibus:                    26892.243   Durbin-Watson:                   1.614\n",
       "Prob(Omnibus):                  0.000   Jarque-Bera (JB):           465085.963\n",
       "Skew:                           2.550   Prob(JB):                         0.00\n",
       "Kurtosis:                      17.886   Cond. No.                     1.82e+04\n",
       "==============================================================================\n",
       "\n",
       "Notes:\n",
       "[1] Standard Errors assume that the covariance matrix of the errors is correctly specified.\n",
       "[2] The condition number is large, 1.82e+04. This might indicate that there are\n",
       "strong multicollinearity or other numerical problems.\n",
       "\"\"\""
      ]
     },
     "execution_count": 342,
     "metadata": {},
     "output_type": "execute_result"
    }
   ],
   "source": [
    "model=sm.OLS(y,sm.ad).fit()\n",
    "model.summary()"
   ]
  },
  {
   "cell_type": "code",
   "execution_count": 337,
   "id": "fe511ced",
   "metadata": {
    "scrolled": false
   },
   "outputs": [],
   "source": [
    "#rfe\n",
    "\n",
    "\n",
    "model = LinearRegression()  \n",
    "\n",
    "\n",
    "num_features_to_select = 5  \n",
    "\n",
    "# Initialize RFE\n",
    "rfe = RFE(model, n_features_to_select=num_features_to_select)\n",
    "\n",
    "# Fit RFE\n",
    "fit = rfe.fit(x, y)\n",
    "\n"
   ]
  },
  {
   "cell_type": "code",
   "execution_count": 338,
   "id": "56308b4a",
   "metadata": {
    "scrolled": true
   },
   "outputs": [
    {
     "data": {
      "text/plain": [
       "listed_type_Dine-out               1\n",
       "book_table_Yes                     1\n",
       "listed_type_Desserts               1\n",
       "listed_type_Delivery               1\n",
       "listed_type_Cafes                  1\n",
       "listed_type_Drinks & nightlife     2\n",
       "cuisines_7                         3\n",
       "cuisines_6                         4\n",
       "cuisines_5                         5\n",
       "cuisines_4                         6\n",
       "cuisines_3                         7\n",
       "listed_city_B_South                8\n",
       "online_order_Yes                   9\n",
       "listed_type_Pubs and bars         10\n",
       "rate                              11\n",
       "cuisines_8                        12\n",
       "cuisines_2                        13\n",
       "votes                             14\n",
       "dtype: int32"
      ]
     },
     "execution_count": 338,
     "metadata": {},
     "output_type": "execute_result"
    }
   ],
   "source": [
    "pd.Series(fit.ranking_,index=x.columns).sort_values(ascending=True)"
   ]
  },
  {
   "cell_type": "code",
   "execution_count": 339,
   "id": "b5cd922f",
   "metadata": {},
   "outputs": [],
   "source": [
    "feature_index=pd.Series(rfe.ranking_,index=x.columns).sort_values(ascending=True)"
   ]
  },
  {
   "cell_type": "code",
   "execution_count": 340,
   "id": "60c33f3a",
   "metadata": {},
   "outputs": [
    {
     "data": {
      "text/plain": [
       "listed_type_Dine-out              1\n",
       "book_table_Yes                    1\n",
       "listed_type_Desserts              1\n",
       "listed_type_Delivery              1\n",
       "listed_type_Cafes                 1\n",
       "listed_type_Drinks & nightlife    2\n",
       "cuisines_7                        3\n",
       "cuisines_6                        4\n",
       "cuisines_5                        5\n",
       "dtype: int32"
      ]
     },
     "execution_count": 340,
     "metadata": {},
     "output_type": "execute_result"
    }
   ],
   "source": [
    "feature_index[:9]"
   ]
  },
  {
   "cell_type": "code",
   "execution_count": 346,
   "id": "821be765",
   "metadata": {},
   "outputs": [],
   "source": [
    "new_x=x[[\"listed_type_Dine-out\",\"book_table_Yes\",\"listed_type_Desserts\",\"listed_type_Delivery\",\"listed_type_Cafes\",\"listed_type_Drinks & nightlife\",\"cuisines_7\",\"cuisines_6\",\"cuisines_5\"]]\n",
    "y=df['cost_for_2']"
   ]
  },
  {
   "cell_type": "code",
   "execution_count": 347,
   "id": "6df8fa03",
   "metadata": {
    "scrolled": false
   },
   "outputs": [
    {
     "data": {
      "text/html": [
       "<table class=\"simpletable\">\n",
       "<caption>OLS Regression Results</caption>\n",
       "<tr>\n",
       "  <th>Dep. Variable:</th>       <td>cost_for_2</td>    <th>  R-squared:         </th>  <td>   0.446</td>  \n",
       "</tr>\n",
       "<tr>\n",
       "  <th>Model:</th>                   <td>OLS</td>       <th>  Adj. R-squared:    </th>  <td>   0.445</td>  \n",
       "</tr>\n",
       "<tr>\n",
       "  <th>Method:</th>             <td>Least Squares</td>  <th>  F-statistic:       </th>  <td>   4025.</td>  \n",
       "</tr>\n",
       "<tr>\n",
       "  <th>Date:</th>             <td>Mon, 27 Nov 2023</td> <th>  Prob (F-statistic):</th>   <td>  0.00</td>   \n",
       "</tr>\n",
       "<tr>\n",
       "  <th>Time:</th>                 <td>21:21:43</td>     <th>  Log-Likelihood:    </th> <td>-3.2657e+05</td>\n",
       "</tr>\n",
       "<tr>\n",
       "  <th>No. Observations:</th>      <td> 45082</td>      <th>  AIC:               </th>  <td>6.532e+05</td> \n",
       "</tr>\n",
       "<tr>\n",
       "  <th>Df Residuals:</th>          <td> 45072</td>      <th>  BIC:               </th>  <td>6.533e+05</td> \n",
       "</tr>\n",
       "<tr>\n",
       "  <th>Df Model:</th>              <td>     9</td>      <th>                     </th>      <td> </td>     \n",
       "</tr>\n",
       "<tr>\n",
       "  <th>Covariance Type:</th>      <td>nonrobust</td>    <th>                     </th>      <td> </td>     \n",
       "</tr>\n",
       "</table>\n",
       "<table class=\"simpletable\">\n",
       "<tr>\n",
       "                 <td></td>                   <th>coef</th>     <th>std err</th>      <th>t</th>      <th>P>|t|</th>  <th>[0.025</th>    <th>0.975]</th>  \n",
       "</tr>\n",
       "<tr>\n",
       "  <th>const</th>                          <td>  904.9814</td> <td>    9.118</td> <td>   99.251</td> <td> 0.000</td> <td>  887.110</td> <td>  922.853</td>\n",
       "</tr>\n",
       "<tr>\n",
       "  <th>listed_type_Dine-out</th>           <td> -379.9623</td> <td>    9.297</td> <td>  -40.869</td> <td> 0.000</td> <td> -398.185</td> <td> -361.740</td>\n",
       "</tr>\n",
       "<tr>\n",
       "  <th>book_table_Yes</th>                 <td>  656.4815</td> <td>    4.949</td> <td>  132.654</td> <td> 0.000</td> <td>  646.782</td> <td>  666.181</td>\n",
       "</tr>\n",
       "<tr>\n",
       "  <th>listed_type_Desserts</th>           <td> -536.0861</td> <td>   10.809</td> <td>  -49.594</td> <td> 0.000</td> <td> -557.273</td> <td> -514.899</td>\n",
       "</tr>\n",
       "<tr>\n",
       "  <th>listed_type_Delivery</th>           <td> -478.9264</td> <td>    9.267</td> <td>  -51.684</td> <td> 0.000</td> <td> -497.089</td> <td> -460.764</td>\n",
       "</tr>\n",
       "<tr>\n",
       "  <th>listed_type_Cafes</th>              <td> -395.1900</td> <td>   12.114</td> <td>  -32.622</td> <td> 0.000</td> <td> -418.934</td> <td> -371.446</td>\n",
       "</tr>\n",
       "<tr>\n",
       "  <th>listed_type_Drinks & nightlife</th> <td>  132.2179</td> <td>   13.448</td> <td>    9.832</td> <td> 0.000</td> <td>  105.861</td> <td>  158.575</td>\n",
       "</tr>\n",
       "<tr>\n",
       "  <th>cuisines_7</th>                     <td>  122.4943</td> <td>   17.838</td> <td>    6.867</td> <td> 0.000</td> <td>   87.532</td> <td>  157.456</td>\n",
       "</tr>\n",
       "<tr>\n",
       "  <th>cuisines_6</th>                     <td>  113.2376</td> <td>   13.231</td> <td>    8.558</td> <td> 0.000</td> <td>   87.304</td> <td>  139.171</td>\n",
       "</tr>\n",
       "<tr>\n",
       "  <th>cuisines_5</th>                     <td>   67.0152</td> <td>    7.809</td> <td>    8.582</td> <td> 0.000</td> <td>   51.710</td> <td>   82.320</td>\n",
       "</tr>\n",
       "</table>\n",
       "<table class=\"simpletable\">\n",
       "<tr>\n",
       "  <th>Omnibus:</th>       <td>26739.610</td> <th>  Durbin-Watson:     </th>  <td>   1.566</td> \n",
       "</tr>\n",
       "<tr>\n",
       "  <th>Prob(Omnibus):</th>  <td> 0.000</td>   <th>  Jarque-Bera (JB):  </th> <td>432143.843</td>\n",
       "</tr>\n",
       "<tr>\n",
       "  <th>Skew:</th>           <td> 2.555</td>   <th>  Prob(JB):          </th>  <td>    0.00</td> \n",
       "</tr>\n",
       "<tr>\n",
       "  <th>Kurtosis:</th>       <td>17.281</td>   <th>  Cond. No.          </th>  <td>    16.8</td> \n",
       "</tr>\n",
       "</table><br/><br/>Notes:<br/>[1] Standard Errors assume that the covariance matrix of the errors is correctly specified."
      ],
      "text/plain": [
       "<class 'statsmodels.iolib.summary.Summary'>\n",
       "\"\"\"\n",
       "                            OLS Regression Results                            \n",
       "==============================================================================\n",
       "Dep. Variable:             cost_for_2   R-squared:                       0.446\n",
       "Model:                            OLS   Adj. R-squared:                  0.445\n",
       "Method:                 Least Squares   F-statistic:                     4025.\n",
       "Date:                Mon, 27 Nov 2023   Prob (F-statistic):               0.00\n",
       "Time:                        21:21:43   Log-Likelihood:            -3.2657e+05\n",
       "No. Observations:               45082   AIC:                         6.532e+05\n",
       "Df Residuals:                   45072   BIC:                         6.533e+05\n",
       "Df Model:                           9                                         \n",
       "Covariance Type:            nonrobust                                         \n",
       "==================================================================================================\n",
       "                                     coef    std err          t      P>|t|      [0.025      0.975]\n",
       "--------------------------------------------------------------------------------------------------\n",
       "const                            904.9814      9.118     99.251      0.000     887.110     922.853\n",
       "listed_type_Dine-out            -379.9623      9.297    -40.869      0.000    -398.185    -361.740\n",
       "book_table_Yes                   656.4815      4.949    132.654      0.000     646.782     666.181\n",
       "listed_type_Desserts            -536.0861     10.809    -49.594      0.000    -557.273    -514.899\n",
       "listed_type_Delivery            -478.9264      9.267    -51.684      0.000    -497.089    -460.764\n",
       "listed_type_Cafes               -395.1900     12.114    -32.622      0.000    -418.934    -371.446\n",
       "listed_type_Drinks & nightlife   132.2179     13.448      9.832      0.000     105.861     158.575\n",
       "cuisines_7                       122.4943     17.838      6.867      0.000      87.532     157.456\n",
       "cuisines_6                       113.2376     13.231      8.558      0.000      87.304     139.171\n",
       "cuisines_5                        67.0152      7.809      8.582      0.000      51.710      82.320\n",
       "==============================================================================\n",
       "Omnibus:                    26739.610   Durbin-Watson:                   1.566\n",
       "Prob(Omnibus):                  0.000   Jarque-Bera (JB):           432143.843\n",
       "Skew:                           2.555   Prob(JB):                         0.00\n",
       "Kurtosis:                      17.281   Cond. No.                         16.8\n",
       "==============================================================================\n",
       "\n",
       "Notes:\n",
       "[1] Standard Errors assume that the covariance matrix of the errors is correctly specified.\n",
       "\"\"\""
      ]
     },
     "execution_count": 347,
     "metadata": {},
     "output_type": "execute_result"
    }
   ],
   "source": [
    "m=sm.OLS(y,sm.add_constant(new_x)).fit()\n",
    "m.summary()"
   ]
  },
  {
   "cell_type": "code",
   "execution_count": 352,
   "id": "086a9edb",
   "metadata": {},
   "outputs": [],
   "source": [
    "new_x=x[[\"listed_type_Dine-out\",\"book_table_Yes\",\"listed_type_Desserts\",\"listed_type_Delivery\",\"listed_type_Cafes\",\"listed_type_Drinks & nightlife\",\"cuisines_7\",\"cuisines_6\",\"cuisines_5\"]]\n",
    "y=df['cost_for_2']"
   ]
  },
  {
   "cell_type": "code",
   "execution_count": 356,
   "id": "53ae5054",
   "metadata": {},
   "outputs": [
    {
     "name": "stdout",
     "output_type": "stream",
     "text": [
      "r2_score 0.47414213833071206\n"
     ]
    }
   ],
   "source": [
    "rfr=RandomForestRegressor(random_state=0)\n",
    "rfr.fit(new_x,y)\n",
    "ypred=rfr.predict(new_x)\n",
    "mean_squared_error(y,ypred,squared=False)\n",
    "print(\"r2_score\",r2_score(y,ypred))"
   ]
  },
  {
   "cell_type": "code",
   "execution_count": 357,
   "id": "8c24be58",
   "metadata": {},
   "outputs": [
    {
     "name": "stdout",
     "output_type": "stream",
     "text": [
      "329.8281925384137\n",
      "                         Features  Importance\n",
      "1                  book_table_Yes    0.786674\n",
      "5  listed_type_Drinks & nightlife    0.072820\n",
      "4               listed_type_Cafes    0.042710\n",
      "3            listed_type_Delivery    0.038156\n",
      "0            listed_type_Dine-out    0.025140\n",
      "2            listed_type_Desserts    0.018766\n",
      "7                      cuisines_6    0.007486\n",
      "8                      cuisines_5    0.004891\n",
      "6                      cuisines_7    0.003358\n",
      "r2_score 0.47415163226211854\n"
     ]
    }
   ],
   "source": [
    "dtr=DecisionTreeRegressor(random_state=0)\n",
    "new_x=x[[\"listed_type_Dine-out\",\"book_table_Yes\",\"listed_type_Desserts\",\"listed_type_Delivery\",\"listed_type_Cafes\",\"listed_type_Drinks & nightlife\",\"cuisines_7\",\"cuisines_6\",\"cuisines_5\"]]\n",
    "y=df['cost_for_2']\n",
    "dtr.fit(new_x,y)\n",
    "ypred=dtr.predict(new_x)\n",
    "print(mean_squared_error(y,ypred,squared=False))\n",
    "important_features = pd.DataFrame({'Features': new_x.columns, \n",
    "                                   'Importance': dtr.feature_importances_})\n",
    "print(important_features.sort_values('Importance', ascending = False))\n",
    "print(\"r2_score\",r2_score(y,ypred))"
   ]
  },
  {
   "cell_type": "code",
   "execution_count": 358,
   "id": "47048d92",
   "metadata": {},
   "outputs": [],
   "source": [
    "from sklearn.model_selection import train_test_split\n"
   ]
  },
  {
   "cell_type": "code",
   "execution_count": 359,
   "id": "ffa9d6bf",
   "metadata": {},
   "outputs": [],
   "source": [
    "ss=StandardScaler()"
   ]
  },
  {
   "cell_type": "markdown",
   "id": "ea1e0010",
   "metadata": {},
   "source": [
    "# Base Model"
   ]
  },
  {
   "cell_type": "code",
   "execution_count": 362,
   "id": "3c5395b3",
   "metadata": {},
   "outputs": [],
   "source": [
    "new_x=x[[\"listed_type_Dine-out\",\"book_table_Yes\",\"listed_type_Desserts\",\"listed_type_Delivery\",\"listed_type_Cafes\",\"listed_type_Drinks & nightlife\",\"cuisines_7\",\"cuisines_6\",\"cuisines_5\"]]\n",
    "y=df['cost_for_2']\n",
    "new_x_sc=pd.DataFrame(ss.fit_transform(new_x),index=new_x.index,columns=new_x.columns)"
   ]
  },
  {
   "cell_type": "code",
   "execution_count": 363,
   "id": "75f383b6",
   "metadata": {},
   "outputs": [],
   "source": [
    "#not scaled split\n",
    "xtrain,xtest,ytrain,ytest=train_test_split(new_x,y,test_size=0.3,random_state=0)"
   ]
  },
  {
   "cell_type": "code",
   "execution_count": 364,
   "id": "c7fca785",
   "metadata": {},
   "outputs": [],
   "source": [
    "#scaled split\n",
    "xtrain_sc,xtest_sc,ytrain_sc,ytest_sc=train_test_split(new_x_sc,y,test_size=0.3,random_state=0)"
   ]
  },
  {
   "cell_type": "code",
   "execution_count": 365,
   "id": "a98d098f",
   "metadata": {
    "collapsed": true
   },
   "outputs": [
    {
     "data": {
      "text/html": [
       "<table class=\"simpletable\">\n",
       "<caption>OLS Regression Results</caption>\n",
       "<tr>\n",
       "  <th>Dep. Variable:</th>       <td>cost_for_2</td>    <th>  R-squared:         </th>  <td>   0.444</td>  \n",
       "</tr>\n",
       "<tr>\n",
       "  <th>Model:</th>                   <td>OLS</td>       <th>  Adj. R-squared:    </th>  <td>   0.444</td>  \n",
       "</tr>\n",
       "<tr>\n",
       "  <th>Method:</th>             <td>Least Squares</td>  <th>  F-statistic:       </th>  <td>   2800.</td>  \n",
       "</tr>\n",
       "<tr>\n",
       "  <th>Date:</th>             <td>Mon, 27 Nov 2023</td> <th>  Prob (F-statistic):</th>   <td>  0.00</td>   \n",
       "</tr>\n",
       "<tr>\n",
       "  <th>Time:</th>                 <td>21:32:21</td>     <th>  Log-Likelihood:    </th> <td>-2.2888e+05</td>\n",
       "</tr>\n",
       "<tr>\n",
       "  <th>No. Observations:</th>      <td> 31557</td>      <th>  AIC:               </th>  <td>4.578e+05</td> \n",
       "</tr>\n",
       "<tr>\n",
       "  <th>Df Residuals:</th>          <td> 31547</td>      <th>  BIC:               </th>  <td>4.579e+05</td> \n",
       "</tr>\n",
       "<tr>\n",
       "  <th>Df Model:</th>              <td>     9</td>      <th>                     </th>      <td> </td>     \n",
       "</tr>\n",
       "<tr>\n",
       "  <th>Covariance Type:</th>      <td>nonrobust</td>    <th>                     </th>      <td> </td>     \n",
       "</tr>\n",
       "</table>\n",
       "<table class=\"simpletable\">\n",
       "<tr>\n",
       "                 <td></td>                   <th>coef</th>     <th>std err</th>      <th>t</th>      <th>P>|t|</th>  <th>[0.025</th>    <th>0.975]</th>  \n",
       "</tr>\n",
       "<tr>\n",
       "  <th>const</th>                          <td>  900.4819</td> <td>   11.037</td> <td>   81.589</td> <td> 0.000</td> <td>  878.849</td> <td>  922.115</td>\n",
       "</tr>\n",
       "<tr>\n",
       "  <th>listed_type_Dine-out</th>           <td> -372.6984</td> <td>   11.249</td> <td>  -33.132</td> <td> 0.000</td> <td> -394.747</td> <td> -350.650</td>\n",
       "</tr>\n",
       "<tr>\n",
       "  <th>book_table_Yes</th>                 <td>  664.4320</td> <td>    6.000</td> <td>  110.730</td> <td> 0.000</td> <td>  652.671</td> <td>  676.193</td>\n",
       "</tr>\n",
       "<tr>\n",
       "  <th>listed_type_Desserts</th>           <td> -533.3305</td> <td>   13.083</td> <td>  -40.764</td> <td> 0.000</td> <td> -558.975</td> <td> -507.686</td>\n",
       "</tr>\n",
       "<tr>\n",
       "  <th>listed_type_Delivery</th>           <td> -475.9860</td> <td>   11.213</td> <td>  -42.448</td> <td> 0.000</td> <td> -497.965</td> <td> -454.007</td>\n",
       "</tr>\n",
       "<tr>\n",
       "  <th>listed_type_Cafes</th>              <td> -387.7387</td> <td>   14.798</td> <td>  -26.201</td> <td> 0.000</td> <td> -416.744</td> <td> -358.733</td>\n",
       "</tr>\n",
       "<tr>\n",
       "  <th>listed_type_Drinks & nightlife</th> <td>  133.7571</td> <td>   16.412</td> <td>    8.150</td> <td> 0.000</td> <td>  101.589</td> <td>  165.925</td>\n",
       "</tr>\n",
       "<tr>\n",
       "  <th>cuisines_7</th>                     <td>  119.9055</td> <td>   21.080</td> <td>    5.688</td> <td> 0.000</td> <td>   78.588</td> <td>  161.223</td>\n",
       "</tr>\n",
       "<tr>\n",
       "  <th>cuisines_6</th>                     <td>   96.9342</td> <td>   15.914</td> <td>    6.091</td> <td> 0.000</td> <td>   65.743</td> <td>  128.125</td>\n",
       "</tr>\n",
       "<tr>\n",
       "  <th>cuisines_5</th>                     <td>   75.9044</td> <td>    9.443</td> <td>    8.038</td> <td> 0.000</td> <td>   57.396</td> <td>   94.413</td>\n",
       "</tr>\n",
       "</table>\n",
       "<table class=\"simpletable\">\n",
       "<tr>\n",
       "  <th>Omnibus:</th>       <td>19666.429</td> <th>  Durbin-Watson:     </th>  <td>   1.999</td> \n",
       "</tr>\n",
       "<tr>\n",
       "  <th>Prob(Omnibus):</th>  <td> 0.000</td>   <th>  Jarque-Bera (JB):  </th> <td>366083.892</td>\n",
       "</tr>\n",
       "<tr>\n",
       "  <th>Skew:</th>           <td> 2.684</td>   <th>  Prob(JB):          </th>  <td>    0.00</td> \n",
       "</tr>\n",
       "<tr>\n",
       "  <th>Kurtosis:</th>       <td>18.799</td>   <th>  Cond. No.          </th>  <td>    16.9</td> \n",
       "</tr>\n",
       "</table><br/><br/>Notes:<br/>[1] Standard Errors assume that the covariance matrix of the errors is correctly specified."
      ],
      "text/plain": [
       "<class 'statsmodels.iolib.summary.Summary'>\n",
       "\"\"\"\n",
       "                            OLS Regression Results                            \n",
       "==============================================================================\n",
       "Dep. Variable:             cost_for_2   R-squared:                       0.444\n",
       "Model:                            OLS   Adj. R-squared:                  0.444\n",
       "Method:                 Least Squares   F-statistic:                     2800.\n",
       "Date:                Mon, 27 Nov 2023   Prob (F-statistic):               0.00\n",
       "Time:                        21:32:21   Log-Likelihood:            -2.2888e+05\n",
       "No. Observations:               31557   AIC:                         4.578e+05\n",
       "Df Residuals:                   31547   BIC:                         4.579e+05\n",
       "Df Model:                           9                                         \n",
       "Covariance Type:            nonrobust                                         \n",
       "==================================================================================================\n",
       "                                     coef    std err          t      P>|t|      [0.025      0.975]\n",
       "--------------------------------------------------------------------------------------------------\n",
       "const                            900.4819     11.037     81.589      0.000     878.849     922.115\n",
       "listed_type_Dine-out            -372.6984     11.249    -33.132      0.000    -394.747    -350.650\n",
       "book_table_Yes                   664.4320      6.000    110.730      0.000     652.671     676.193\n",
       "listed_type_Desserts            -533.3305     13.083    -40.764      0.000    -558.975    -507.686\n",
       "listed_type_Delivery            -475.9860     11.213    -42.448      0.000    -497.965    -454.007\n",
       "listed_type_Cafes               -387.7387     14.798    -26.201      0.000    -416.744    -358.733\n",
       "listed_type_Drinks & nightlife   133.7571     16.412      8.150      0.000     101.589     165.925\n",
       "cuisines_7                       119.9055     21.080      5.688      0.000      78.588     161.223\n",
       "cuisines_6                        96.9342     15.914      6.091      0.000      65.743     128.125\n",
       "cuisines_5                        75.9044      9.443      8.038      0.000      57.396      94.413\n",
       "==============================================================================\n",
       "Omnibus:                    19666.429   Durbin-Watson:                   1.999\n",
       "Prob(Omnibus):                  0.000   Jarque-Bera (JB):           366083.892\n",
       "Skew:                           2.684   Prob(JB):                         0.00\n",
       "Kurtosis:                      18.799   Cond. No.                         16.9\n",
       "==============================================================================\n",
       "\n",
       "Notes:\n",
       "[1] Standard Errors assume that the covariance matrix of the errors is correctly specified.\n",
       "\"\"\""
      ]
     },
     "execution_count": 365,
     "metadata": {},
     "output_type": "execute_result"
    }
   ],
   "source": [
    "model=sm.OLS(ytrain_sc,sm.add_constant(xtrain)).fit()\n",
    "model.summary()"
   ]
  },
  {
   "cell_type": "code",
   "execution_count": 374,
   "id": "07097810",
   "metadata": {
    "scrolled": true
   },
   "outputs": [
    {
     "name": "stdout",
     "output_type": "stream",
     "text": [
      "rmse_train 341.7342223033006\n",
      "rmse_test 331.5086315001619\n",
      "r2_score 0.4488602095736439\n"
     ]
    }
   ],
   "source": [
    "lr=LinearRegression()\n",
    "model_lr=lr.fit(xtrain,ytrain)\n",
    "y_pred_train=model_lr.predict(xtrain)\n",
    "y_pred_test=model_lr.predict(xtest)\n",
    "print(\"rmse_train\",mean_squared_error(ytrain,y_pred_train,squared=False))\n",
    "print(\"rmse_test\",mean_squared_error(ytest,y_pred_test,squared=False))\n",
    "print(\"r2_score\",r2_score(ytest,y_pred_test))"
   ]
  },
  {
   "cell_type": "code",
   "execution_count": 375,
   "id": "cd6f4264",
   "metadata": {},
   "outputs": [
    {
     "name": "stdout",
     "output_type": "stream",
     "text": [
      "rmse_train 348.83827684375984\n",
      "rmse_test 337.4993529397508\n",
      "r2_score 0.42876083645191754\n"
     ]
    }
   ],
   "source": [
    "knnr=KNeighborsRegressor()\n",
    "model_knnr=knnr.fit(xtrain_sc,ytrain_sc)\n",
    "y_pred_train=model_knnr.predict(xtrain_sc)\n",
    "y_pred_test=model_knnr.predict(xtest_sc)\n",
    "print(\"rmse_train\",mean_squared_error(ytrain_sc,y_pred_train,squared=False))\n",
    "print(\"rmse_test\",mean_squared_error(ytest_sc,y_pred_test,squared=False))\n",
    "print(\"r2_score\",r2_score(ytest_sc,y_pred_test))"
   ]
  },
  {
   "cell_type": "code",
   "execution_count": 376,
   "id": "e1b17d92",
   "metadata": {},
   "outputs": [
    {
     "name": "stdout",
     "output_type": "stream",
     "text": [
      "                         Features  Importance\n",
      "1                  book_table_Yes    0.791724\n",
      "5  listed_type_Drinks & nightlife    0.068978\n",
      "3            listed_type_Delivery    0.040797\n",
      "4               listed_type_Cafes    0.039239\n",
      "0            listed_type_Dine-out    0.023903\n",
      "2            listed_type_Desserts    0.019012\n",
      "7                      cuisines_6    0.007010\n",
      "8                      cuisines_5    0.005488\n",
      "6                      cuisines_7    0.003849 \n",
      "\n",
      "rmse_train 332.9195147514217\n",
      "rmse_test 322.78853930317564\n",
      "r2_score 0.4774735264611769\n"
     ]
    }
   ],
   "source": [
    "dt=DecisionTreeRegressor(random_state=0)\n",
    "model_dt=dt.fit(xtrain,ytrain)\n",
    "y_pred_train=model_dt.predict(xtrain)\n",
    "y_pred_test=model_dt.predict(xtest)\n",
    "important_features = pd.DataFrame({'Features': xtrain.columns, \n",
    "                                   'Importance': model_dt.feature_importances_})\n",
    "print(important_features.sort_values('Importance', ascending = False),\"\\n\")\n",
    "print(\"rmse_train\",mean_squared_error(ytrain,y_pred_train,squared=False))\n",
    "print(\"rmse_test\",mean_squared_error(ytest,y_pred_test,squared=False))\n",
    "print(\"r2_score\",r2_score(ytest,y_pred_test))"
   ]
  },
  {
   "cell_type": "code",
   "execution_count": 377,
   "id": "c0768986",
   "metadata": {},
   "outputs": [
    {
     "name": "stdout",
     "output_type": "stream",
     "text": [
      "                         Features  Importance\n",
      "1                  book_table_Yes    0.789968\n",
      "5  listed_type_Drinks & nightlife    0.070309\n",
      "3            listed_type_Delivery    0.041171\n",
      "4               listed_type_Cafes    0.038948\n",
      "0            listed_type_Dine-out    0.023263\n",
      "2            listed_type_Desserts    0.019031\n",
      "7                      cuisines_6    0.007465\n",
      "8                      cuisines_5    0.005859\n",
      "6                      cuisines_7    0.003986 \n",
      "\n",
      "rmse_train 332.9234216022261\n",
      "rmse_test 322.79872971659313\n",
      "r2_score 0.47744053368609496\n"
     ]
    }
   ],
   "source": [
    "rf=RandomForestRegressor(random_state=0)\n",
    "model_rf=rf.fit(xtrain,ytrain)\n",
    "y_pred_train=model_rf.predict(xtrain)\n",
    "y_pred_test=model_rf.predict(xtest)\n",
    "important_features = pd.DataFrame({'Features': xtrain.columns, \n",
    "                                   'Importance': model_rf.feature_importances_})\n",
    "print(important_features.sort_values('Importance', ascending = False),\"\\n\")\n",
    "print(\"rmse_train\",mean_squared_error(ytrain,y_pred_train,squared=False))\n",
    "print(\"rmse_test\",mean_squared_error(ytest,y_pred_test,squared=False))\n",
    "print(\"r2_score\",r2_score(ytest,y_pred_test))"
   ]
  },
  {
   "cell_type": "code",
   "execution_count": 378,
   "id": "5451ddb0",
   "metadata": {},
   "outputs": [
    {
     "name": "stdout",
     "output_type": "stream",
     "text": [
      "rmse_train 342.33189728414897\n",
      "rmse_test 335.11921241644507\n",
      "r2_score 0.4367895050984021\n"
     ]
    }
   ],
   "source": [
    "abr=AdaBoostRegressor(estimator=rf, random_state=0)\n",
    "model_abr=abr.fit(xtrain,ytrain)\n",
    "y_pred_train=model_abr.predict(xtrain)\n",
    "y_pred_test=model_abr.predict(xtest)\n",
    "print(\"rmse_train\",mean_squared_error(ytrain,y_pred_train,squared=False))\n",
    "print(\"rmse_test\",mean_squared_error(ytest,y_pred_test,squared=False))\n",
    "print(\"r2_score\",r2_score(ytest,y_pred_test))"
   ]
  },
  {
   "cell_type": "code",
   "execution_count": 379,
   "id": "c9e2d38f",
   "metadata": {},
   "outputs": [
    {
     "name": "stdout",
     "output_type": "stream",
     "text": [
      "rmse_train 336.8625984387132\n",
      "rmse_test 327.94703794784436\n",
      "r2_score 0.46063903671077155\n"
     ]
    }
   ],
   "source": [
    "gbr=GradientBoostingRegressor(random_state=0)\n",
    "model_gbr=gbr.fit(xtrain,ytrain)\n",
    "y_pred_train=model_gbr.predict(xtrain)\n",
    "y_pred_test=model_gbr.predict(xtest)\n",
    "print(\"rmse_train\",mean_squared_error(ytrain,y_pred_train,squared=False))\n",
    "print(\"rmse_test\",mean_squared_error(ytest,y_pred_test,squared=False))\n",
    "print(\"r2_score\",r2_score(ytest,y_pred_test))"
   ]
  },
  {
   "cell_type": "code",
   "execution_count": 383,
   "id": "25e62f5d",
   "metadata": {},
   "outputs": [],
   "source": [
    "# decision tree seems to be having the best results , hence we shall tune the model"
   ]
  },
  {
   "cell_type": "markdown",
   "id": "d270f3b7",
   "metadata": {},
   "source": [
    "# TUNING"
   ]
  },
  {
   "cell_type": "code",
   "execution_count": null,
   "id": "beaa19e4",
   "metadata": {},
   "outputs": [],
   "source": [
    "{criterion='squared_error',\n",
    "    splitter='best',\n",
    "    max_depth=None,\n",
    "    min_samples_split=2,\n",
    "    min_samples_leaf=1,\n",
    "    min_weight_fraction_leaf=0.0,\n",
    "    max_features=None,\n",
    "    random_state=None,\n",
    "    max_leaf_nodes=None,\n",
    "    min_impurity_decrease=0.0,\n",
    "    ccp_alpha=0.0,"
   ]
  },
  {
   "cell_type": "code",
   "execution_count": 398,
   "id": "3cc419aa",
   "metadata": {},
   "outputs": [
    {
     "name": "stdout",
     "output_type": "stream",
     "text": [
      "Best Parameters:  {'max_depth': 20, 'max_features': 'log2', 'min_samples_leaf': 2, 'min_samples_split': 5}\n",
      "Mean Squared Error on Test Set:  104194.21432400733\n"
     ]
    }
   ],
   "source": [
    "\n",
    "dt_regressor = DecisionTreeRegressor()\n",
    "\n",
    "\n",
    "param_grid = {\n",
    "    'max_depth': [None, 10, 20, 30,40],\n",
    "    'min_samples_split': [2, 5, 10,15],\n",
    "    'min_samples_leaf': [1, 2, 4],\n",
    "    'max_features': ['auto', 'sqrt', 'log2'],\n",
    "}\n",
    "\n",
    "grid_search = GridSearchCV(dt_regressor, param_grid, cv=5, scoring='neg_mean_squared_error', n_jobs=-1.)\n",
    "grid_search.fit(xtrain, ytrain)\n",
    "print(\"Best Parameters: \", grid_search.best_params_)\n",
    "best_dt_model = grid_search.best_estimator_\n",
    "\n",
    "y_pred = best_dt_model.predict(xtest)\n",
    "mse = mean_squared_error(ytest, y_pred)\n",
    "print(\"Mean Squared Error on Test Set: \", mse)"
   ]
  },
  {
   "cell_type": "code",
   "execution_count": null,
   "id": "ccf1c819",
   "metadata": {},
   "outputs": [],
   "source": [
    "# result\n",
    "# Best Parameters:  {'max_depth': 20, 'max_features': 'log2', 'min_samples_leaf': 2, 'min_samples_split': 5}\n",
    "# Mean Squared Error on Test Set:  104194.21432400733"
   ]
  },
  {
   "cell_type": "code",
   "execution_count": 399,
   "id": "d27037f9",
   "metadata": {
    "scrolled": true
   },
   "outputs": [
    {
     "name": "stdout",
     "output_type": "stream",
     "text": [
      "rmse_train 332.92025346088144\n",
      "rmse_test 322.7891117107691\n",
      "r2_score 0.4774716732455263\n"
     ]
    }
   ],
   "source": [
    "dt=DecisionTreeRegressor(max_depth= 20, max_features='log2', min_samples_leaf= 2, min_samples_split= 5,random_state=0)\n",
    "model_dt=dt.fit(xtrain,ytrain)\n",
    "y_pred_train=model_dt.predict(xtrain)\n",
    "y_pred_test=model_dt.predict(xtest)\n",
    "print(\"rmse_train\",mean_squared_error(ytrain,y_pred_train,squared=False))\n",
    "print(\"rmse_test\",mean_squared_error(ytest,y_pred_test,squared=False))\n",
    "print(\"r2_score\",r2_score(ytest,y_pred_test))"
   ]
  },
  {
   "cell_type": "markdown",
   "id": "da4bef9e",
   "metadata": {},
   "source": [
    "RMSE (Root Mean Squared Error):\n",
    "\n",
    "Training Set: The RMSE on the training set is 332.92, indicating the average prediction error on the cost for two in the training data. This suggests that, on average, predictions deviate by approximately 332.92 units of the target variable from the actual values.\n",
    "Test Set: The RMSE on the test set is 322.79, showing a similar measure of prediction error but on the unseen data. The model's performance on the test set is comparable to the training set, indicating that it generalizes well.\n",
    "R2 Score:\n",
    "\n",
    "The R2 score is 0.48, indicating that the model explains 48% of the variance in the target variable (cost for two). This suggests that the model captures a moderate amount of variability in the target variable."
   ]
  },
  {
   "cell_type": "markdown",
   "id": "0b9ef5a9",
   "metadata": {},
   "source": [
    "# Business Interpretation"
   ]
  },
  {
   "cell_type": "markdown",
   "id": "f4f38751",
   "metadata": {},
   "source": [
    "\n",
    "Prediction Accuracy:\n",
    "The RMSE values on both the training and test sets are relatively high, suggesting that the model's predictions may not be highly accurate. Businesses should be aware that the model's predictions could have a significant margin of error when estimating the cost for two.\n",
    "Generalization to Unseen Data:\n",
    "\n",
    "The similarity between the RMSE on the training and test sets indicates that the model generalizes reasonably well to new, unseen data. However, caution should be exercised, and ongoing monitoring is recommended to ensure the model's continued performance as the data distribution evolves.\n",
    "Feature Importance:\n",
    "\n",
    "Features such as book_table, rate, cuisines, online_order, and listed_in(city) are used in the model. Understanding the importance of these features can provide insights into what factors most strongly influence the predicted cost for two. This information can guide business decisions related to pricing strategies, menu offerings, and online ordering promotions.\n",
    "Model Complexity:\n",
    "\n",
    "The Decision Tree model has been tuned with specific hyperparameters (e.g., max_depth, max_features, min_samples_leaf). The model complexity, as determined by these parameters, should be considered in the context of business requirements. Adjustments to these hyperparameters may impact prediction accuracy and overfitting.\n",
    "Explained Variance:\n",
    "\n",
    "The R2 score of 0.48 suggests that the model explains a moderate amount of the variability in the cost for two. Businesses should be aware that other unaccounted factors might contribute to the remaining variance. Exploring additional data sources or refining features could enhance model performance.\n",
    "Business Decision Support:\n",
    "\n",
    "While the model provides predictions, it is essential to integrate these predictions into the broader decision-making process. Consideration of business context, market dynamics, and external factors is crucial to derive actionable insights from the model's outputs.\n",
    "In summary, this Decision Tree Regression model can provide a foundation for predicting the cost for two based on the specified features. However, continuous monitoring, feature refinement, and potential exploration of other modeling approaches should be part of an ongoing strategy to improve prediction accuracy and business decision support"
   ]
  }
 ],
 "metadata": {
  "kernelspec": {
   "display_name": "Python 3 (ipykernel)",
   "language": "python",
   "name": "python3"
  },
  "language_info": {
   "codemirror_mode": {
    "name": "ipython",
    "version": 3
   },
   "file_extension": ".py",
   "mimetype": "text/x-python",
   "name": "python",
   "nbconvert_exporter": "python",
   "pygments_lexer": "ipython3",
   "version": "3.10.9"
  }
 },
 "nbformat": 4,
 "nbformat_minor": 5
}
